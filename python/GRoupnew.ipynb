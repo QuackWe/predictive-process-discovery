{
 "cells": [
  {
   "cell_type": "code",
   "execution_count": 1,
   "id": "9d03cc54",
   "metadata": {},
   "outputs": [],
   "source": [
    "import sys\n",
    "import pandas as pd\n",
    "import numpy as np\n",
    "\n",
    "from sklearn.model_selection import StratifiedKFold\n",
    "import pm4py\n",
    "import math"
   ]
  },
  {
   "cell_type": "code",
   "execution_count": 3,
   "id": "1baccf4a",
   "metadata": {},
   "outputs": [],
   "source": [
    "def read_and_clean_dataset(file_path):\n",
    "    # read dataset\n",
    "    data_raw = pm4py.read_xes(file_path)\n",
    "        \n",
    "    # Let's only consider the complete lifecycle:transition, this is because the value \"complete\" meaning\n",
    "    # the ongoing single event task is finished instead of being suspended or withdrawal, increasing the possibility to\n",
    "    # get more complete traces for our prediction\n",
    "    data_raw = data_raw[data_raw['lifecycle:transition'] == 'complete']\n",
    "    log = pm4py.convert_to_event_log(data_raw)\n",
    "        \n",
    "    # Only keep two most frequent traces, we believe these are the most complete traces\n",
    "    filtered_log = pm4py.filter_end_activities(log, ['A_Pending','O_Cancelled'])\n",
    "        \n",
    "    df = pm4py.convert_to_dataframe(filtered_log)\n",
    "    agg_dict = {\"time:timestamp\" :['min', 'max']}\n",
    "    duration_df = pd.DataFrame(df.groupby(\"case:concept:name\").agg(agg_dict)).reset_index()\n",
    "    duration_df[\"trace_duration_days\"] = (duration_df[(\"time:timestamp\",\"max\")] - duration_df[(\"time:timestamp\",\"min\")]).dt.total_seconds() / (24 * 60 * 60)\n",
    "    duration_df['trace_duration_days'] = duration_df['trace_duration_days'].apply(lambda x: math.ceil(x))\n",
    "    duration_df[\"trace_duration_seconds\"] = (duration_df[(\"time:timestamp\",\"max\")] - duration_df[(\"time:timestamp\",\"min\")]).dt.total_seconds()\n",
    "    duration_df.drop(columns=['time:timestamp'],inplace=True)\n",
    "    duration_df = duration_df.droplevel(1, axis=1)\n",
    "\n",
    "    df_with_duration = df.merge(duration_df, on='case:concept:name')\n",
    "    #df_with_duration['sum_Time_sec'] = df.groupby('case:concept:name')['time:timestamp'].transform(lambda x: x - x.iloc[0]).dt.total_seconds()\n",
    "    df_with_duration_remain = df_with_duration.copy()\n",
    "    df_with_duration_remain['remaining_time'] = df_with_duration.groupby('case:concept:name')['time:timestamp'].transform(lambda x: x.iloc[-1] - x).dt.total_seconds()\n",
    "    #df_with_duration_remain['Complete_Timestamp'] = df_with_duration_remain.groupby('case:concept:name')['time:timestamp'].transform('last')\n",
    "    #df_with_duration['duration'] = df_with_duration.groupby('case:concept:name')['time:timestamp'].diff().dt.total_seconds()\n",
    "        \n",
    "    return df_with_duration_remain\n",
    "# Duration time, remaining_time cannot be used for testing, just for knowing data distribution"
   ]
  },
  {
   "cell_type": "code",
   "execution_count": 4,
   "id": "34e10145",
   "metadata": {},
   "outputs": [
    {
     "name": "stderr",
     "output_type": "stream",
     "text": [
      "/Users/waterhorse/opt/anaconda3/lib/python3.9/site-packages/pm4py/util/dt_parsing/parser.py:77: UserWarning: ISO8601 strings are not fully supported with strpfromiso for Python versions below 3.11\n",
      "  warnings.warn(\n"
     ]
    },
    {
     "data": {
      "application/vnd.jupyter.widget-view+json": {
       "model_id": "6451de7e09dd4d31b28483a02109afeb",
       "version_major": 2,
       "version_minor": 0
      },
      "text/plain": [
       "parsing log, completed traces ::   0%|          | 0/31509 [00:00<?, ?it/s]"
      ]
     },
     "metadata": {},
     "output_type": "display_data"
    },
    {
     "name": "stderr",
     "output_type": "stream",
     "text": [
      "/Users/waterhorse/opt/anaconda3/lib/python3.9/site-packages/pm4py/utils.py:537: UserWarning: the EventLog class has been deprecated and will be removed in a future release.\n",
      "  warnings.warn(\"the EventLog class has been deprecated and will be removed in a future release.\")\n",
      "/Users/waterhorse/opt/anaconda3/lib/python3.9/site-packages/pandas/core/generic.py:4150: PerformanceWarning: dropping on a non-lexsorted multi-index without a level parameter may impact performance.\n",
      "  obj = obj._drop_axis(labels, axis, level=level, errors=errors)\n"
     ]
    }
   ],
   "source": [
    "data = read_and_clean_dataset('BPI_Challenge_2017.xes.gz')"
   ]
  },
  {
   "cell_type": "code",
   "execution_count": 5,
   "id": "9c92fa04",
   "metadata": {},
   "outputs": [
    {
     "data": {
      "image/png": "[encoded data removed]",
      "text/plain": [
       "<Figure size 640x480 with 1 Axes>"
      ]
     },
     "metadata": {},
     "output_type": "display_data"
    }
   ],
   "source": [
    "import matplotlib.pyplot as plt\n",
    "\n",
    "# Assuming df_with_duration is your DataFrame containing the 'duration_days' column\n",
    "# Make sure you have imported the pandas and matplotlib libraries\n",
    "\n",
    "# Plotting the histogram\n",
    "plt.hist(data['trace_duration_days'], bins=20, edgecolor='black')  # Adjust the number of bins according to your data\n",
    "plt.title('Duration Days Distribution')\n",
    "plt.xlabel('Duration Days')\n",
    "plt.ylabel('Frequency')\n",
    "plt.show()"
   ]
  },
  {
   "cell_type": "code",
   "execution_count": 6,
   "id": "29bce2eb",
   "metadata": {},
   "outputs": [],
   "source": [
    "quantile_25 = data['trace_duration_days'].quantile(0.25)\n",
    "quantile_75 = data['trace_duration_days'].quantile(0.75)\n",
    "data_iqr = data[(data['trace_duration_days'] >= quantile_25) & (data['trace_duration_days'] <= quantile_75)]"
   ]
  },
  {
   "cell_type": "code",
   "execution_count": 7,
   "id": "f8e8e805",
   "metadata": {},
   "outputs": [],
   "source": [
    "train_df, test_df = pm4py.split_train_test(data_iqr, train_percentage=0.75)"
   ]
  },
  {
   "cell_type": "code",
   "execution_count": 44,
   "id": "3c20c725",
   "metadata": {},
   "outputs": [],
   "source": [
    "# Get prefixed with length 6,7,8,9,10\n",
    "bucket_train = []\n",
    "for len_prefix in [6,7,8,9,10]:\n",
    "    bucket_train.append(pm4py.get_prefixes_from_log(train_df, length=len_prefix, case_id_key='case:concept:name'))"
   ]
  },
  {
   "cell_type": "code",
   "execution_count": 41,
   "id": "a9b34425",
   "metadata": {},
   "outputs": [],
   "source": [
    "def AggregateTransformer(X, case_id_col, num_cols, cat_cols):\n",
    "    # transform numeric cols\n",
    "    if len(num_cols) > 0:\n",
    "        dt_numeric = X.groupby(case_id_col)[num_cols].agg([\"mean\", \"max\", \"min\", \"sum\", \"std\"])\n",
    "        dt_numeric.columns = ['_'.join(col).strip() for col in dt_numeric.columns.values]\n",
    "            \n",
    "    # transform cat cols\n",
    "    dt_transformed = pd.get_dummies(X[cat_cols])\n",
    "    dt_transformed[case_id_col] = X[case_id_col]\n",
    "    del X \n",
    "    dt_transformed = dt_transformed.groupby(case_id_col).sum()\n",
    "        \n",
    "    # concatenate\n",
    "    if len(num_cols) > 0:\n",
    "        dt_transformed = pd.concat([dt_transformed, dt_numeric], axis=1)\n",
    "    del dt_numeric\n",
    "        \n",
    "    # fill missing values with 0-s\n",
    "    dt_transformed = dt_transformed.fillna(0)\n",
    "    \n",
    "    return dt_transformed"
   ]
  },
  {
   "cell_type": "code",
   "execution_count": 50,
   "id": "ccfa9f02",
   "metadata": {},
   "outputs": [],
   "source": [
    "case_id_col = 'case:concept:name'\n",
    "y_col = 'remaining_time'\n",
    "dynamic_cat_cols = ['concept:name','org:resource','case:concept:name','OfferID']\n",
    "static_cat_cols = ['case:LoanGoal','case:ApplicationType']\n",
    "dynamic_num_cols = ['FirstWithdrawalAmount','NumberOfTerms',\n",
    "                                 'OfferedAmount','MonthlyCost']\n",
    "static_num_cols = ['case:RequestedAmount']"
   ]
  },
  {
   "cell_type": "code",
   "execution_count": null,
   "id": "a2c7f5a2",
   "metadata": {},
   "outputs": [],
   "source": [
    "encoded_bucket = []\n",
    "for bucket in bucket_train:\n",
    "    encoded_bucket.append(AggregateTransformer(bucket,case_id_col,num_cols=dynamic_num_cols,cat_cols=dynamic_cat_cols))"
   ]
  },
  {
   "cell_type": "code",
   "execution_count": null,
   "id": "c7791fc6",
   "metadata": {},
   "outputs": [],
   "source": []
  }
 ],
 "metadata": {
  "kernelspec": {
   "display_name": "Python 3 (ipykernel)",
   "language": "python",
   "name": "python3"
  },
  "language_info": {
   "codemirror_mode": {
    "name": "ipython",
    "version": 3
   },
   "file_extension": ".py",
   "mimetype": "text/x-python",
   "name": "python",
   "nbconvert_exporter": "python",
   "pygments_lexer": "ipython3",
   "version": "3.9.16"
  }
 },
 "nbformat": 4,
 "nbformat_minor": 5
}
