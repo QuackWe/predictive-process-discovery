{
 "cells": [
  {
   "cell_type": "code",
   "execution_count": 1,
   "id": "9d03cc54",
   "metadata": {},
   "outputs": [
    {
     "name": "stderr",
     "output_type": "stream",
     "text": [
      "/usr/local/lib/python3.9/site-packages/scipy/__init__.py:146: UserWarning: A NumPy version >=1.16.5 and <1.23.0 is required for this version of SciPy (detected version 1.26.2\n",
      "  warnings.warn(f\"A NumPy version >={np_minversion} and <{np_maxversion}\"\n"
     ]
    }
   ],
   "source": [
    "import sys\n",
    "import pandas as pd\n",
    "import numpy as np\n",
    "\n",
    "from sklearn.model_selection import StratifiedKFold\n",
    "import pm4py\n",
    "import math"
   ]
  },
  {
   "cell_type": "markdown",
   "id": "d8e11b86",
   "metadata": {},
   "source": [
    "### cleaning "
   ]
  },
  {
   "cell_type": "code",
   "execution_count": 2,
   "id": "1baccf4a",
   "metadata": {},
   "outputs": [],
   "source": [
    "def read_and_clean_dataset(file_path):\n",
    "    # read dataset\n",
    "    data_raw = pm4py.read_xes(file_path)\n",
    "        \n",
    "    # Let's only consider the complete lifecycle:transition, this is because the value \"complete\" meaning\n",
    "    # the ongoing single event task is finished instead of being suspended or withdrawal, increasing the possibility to\n",
    "    # get more complete traces for our prediction\n",
    "    data_raw = data_raw[data_raw['lifecycle:transition'] == 'complete']\n",
    "    log = pm4py.convert_to_event_log(data_raw)\n",
    "        \n",
    "    # Only keep two most frequent traces, we believe these are the most complete traces\n",
    "    filtered_log = pm4py.filter_end_activities(log, ['A_Pending','O_Cancelled'])\n",
    "        \n",
    "    df = pm4py.convert_to_dataframe(filtered_log)\n",
    "    agg_dict = {\"time:timestamp\" :['min', 'max']}\n",
    "    duration_df = pd.DataFrame(df.groupby(\"case:concept:name\").agg(agg_dict)).reset_index()\n",
    "    duration_df[\"trace_duration_days\"] = (duration_df[(\"time:timestamp\",\"max\")] - duration_df[(\"time:timestamp\",\"min\")]).dt.total_seconds() / (24 * 60 * 60)\n",
    "    duration_df['trace_duration_days'] = duration_df['trace_duration_days'].apply(lambda x: math.ceil(x))\n",
    "    duration_df[\"trace_duration_seconds\"] = (duration_df[(\"time:timestamp\",\"max\")] - duration_df[(\"time:timestamp\",\"min\")]).dt.total_seconds()\n",
    "    duration_df.drop(columns=['time:timestamp'],inplace=True)\n",
    "    duration_df = duration_df.droplevel(1, axis=1)\n",
    "\n",
    "    df_with_duration = df.merge(duration_df, on='case:concept:name')\n",
    "    #df_with_duration['sum_Time_sec'] = df.groupby('case:concept:name')['time:timestamp'].transform(lambda x: x - x.iloc[0]).dt.total_seconds()\n",
    "    df_with_duration_remain = df_with_duration.copy()\n",
    "    df_with_duration_remain['remaining_time'] = df_with_duration.groupby('case:concept:name')['time:timestamp'].transform(lambda x: x.iloc[-1] - x).dt.total_seconds()\n",
    "    #df_with_duration_remain['Complete_Timestamp'] = df_with_duration_remain.groupby('case:concept:name')['time:timestamp'].transform('last')\n",
    "    #df_with_duration['duration'] = df_with_duration.groupby('case:concept:name')['time:timestamp'].diff().dt.total_seconds()\n",
    "        \n",
    "    return df_with_duration_remain\n",
    "# Duration time, remaining_time cannot be used for testing, just for knowing data distribution"
   ]
  },
  {
   "cell_type": "code",
   "execution_count": 3,
   "id": "34e10145",
   "metadata": {},
   "outputs": [
    {
     "name": "stderr",
     "output_type": "stream",
     "text": [
      "/usr/local/lib/python3.9/site-packages/pm4py/util/dt_parsing/parser.py:77: UserWarning: ISO8601 strings are not fully supported with strpfromiso for Python versions below 3.11\n",
      "  warnings.warn(\n"
     ]
    },
    {
     "data": {
      "application/vnd.jupyter.widget-view+json": {
       "model_id": "d121646403634446a9071659d4a502fa",
       "version_major": 2,
       "version_minor": 0
      },
      "text/plain": [
       "parsing log, completed traces ::   0%|          | 0/31509 [00:00<?, ?it/s]"
      ]
     },
     "metadata": {},
     "output_type": "display_data"
    },
    {
     "name": "stderr",
     "output_type": "stream",
     "text": [
      "/usr/local/lib/python3.9/site-packages/pm4py/utils.py:537: UserWarning: the EventLog class has been deprecated and will be removed in a future release.\n",
      "  warnings.warn(\"the EventLog class has been deprecated and will be removed in a future release.\")\n",
      "/var/folders/1k/g6jpvmcs1cxb7t87t60d7dy40000gn/T/ipykernel_53496/1470292893.py:20: PerformanceWarning: dropping on a non-lexsorted multi-index without a level parameter may impact performance.\n",
      "  duration_df.drop(columns=['time:timestamp'],inplace=True)\n"
     ]
    }
   ],
   "source": [
    "data = read_and_clean_dataset('/Users/syeniperea/Desktop/PROFESIONAL/TUE/prom-lite-1.4-all-platforms/RETO FILES/BPI Challenge 2017.xes')"
   ]
  },
  {
   "cell_type": "code",
   "execution_count": 4,
   "id": "9c92fa04",
   "metadata": {},
   "outputs": [
    {
     "data": {
      "image/png": "[encoded data removed]",
      "text/plain": [
       "<Figure size 432x288 with 1 Axes>"
      ]
     },
     "metadata": {
      "needs_background": "light"
     },
     "output_type": "display_data"
    }
   ],
   "source": [
    "import matplotlib.pyplot as plt\n",
    "\n",
    "# Assuming df_with_duration is your DataFrame containing the 'duration_days' column\n",
    "# Make sure you have imported the pandas and matplotlib libraries\n",
    "\n",
    "# Plotting the histogram\n",
    "plt.hist(data['trace_duration_days'], bins=20, edgecolor='black')  # Adjust the number of bins according to your data\n",
    "plt.title('Duration Days Distribution')\n",
    "plt.xlabel('Duration Days')\n",
    "plt.ylabel('Frequency')\n",
    "plt.show()"
   ]
  },
  {
   "cell_type": "code",
   "execution_count": 5,
   "id": "29bce2eb",
   "metadata": {},
   "outputs": [],
   "source": [
    "quantile_25 = data['trace_duration_days'].quantile(0.25)\n",
    "quantile_75 = data['trace_duration_days'].quantile(0.75)\n",
    "data_iqr = data[(data['trace_duration_days'] >= quantile_25) & (data['trace_duration_days'] <= quantile_75)]"
   ]
  },
  {
   "cell_type": "code",
   "execution_count": 143,
   "id": "9a8b4f8b",
   "metadata": {},
   "outputs": [
    {
     "data": {
      "text/plain": [
       "array(['A_Create Application', 'A_Submitted', 'A_Concept', 'A_Accepted',\n",
       "       'O_Create Offer', 'O_Created', 'O_Sent (mail and online)',\n",
       "       'A_Complete', 'A_Validating', 'O_Returned', 'A_Incomplete',\n",
       "       'O_Accepted', 'A_Pending', 'W_Complete application', 'O_Cancelled',\n",
       "       'W_Handle leads', 'W_Validate application', 'A_Cancelled',\n",
       "       'O_Sent (online only)', 'W_Call incomplete files',\n",
       "       'W_Call after offers', 'W_Assess potential fraud'], dtype=object)"
      ]
     },
     "execution_count": 143,
     "metadata": {},
     "output_type": "execute_result"
    }
   ],
   "source": [
    "data_iqr['concept:name'].unique()\n"
   ]
  },
  {
   "cell_type": "code",
   "execution_count": 144,
   "id": "9ef55d81",
   "metadata": {},
   "outputs": [],
   "source": [
    "all_act=['concept:name_A_Create Application', 'concept:name_A_Submitted', 'concept:name_A_Concept', 'concept:name_A_Accepted',\n",
    "       'concept:name_O_Create Offer', 'concept:name_O_Created', 'concept:name_O_Sent (mail and online)',\n",
    "       'concept:name_A_Complete', 'concept:name_A_Validating', 'concept:name_O_Returned', 'concept:name_A_Incomplete',\n",
    "       'concept:name_O_Accepted', 'concept:name_A_Pending', 'concept:name_W_Complete application', 'concept:name_O_Cancelled',\n",
    "       'concept:name_W_Handle leads', 'concept:name_W_Validate application', 'concept:name_A_Cancelled',\n",
    "       'concept:name_O_Sent (online only)', 'concept:name_W_Call incomplete files',\n",
    "       'concept:name_W_Call after offers', 'concept:name_W_Assess potential fraud']"
   ]
  },
  {
   "cell_type": "markdown",
   "id": "e60bebe9",
   "metadata": {},
   "source": [
    "### Prediction"
   ]
  },
  {
   "cell_type": "code",
   "execution_count": 52,
   "id": "f8e8e805",
   "metadata": {},
   "outputs": [
    {
     "name": "stderr",
     "output_type": "stream",
     "text": [
      "/var/folders/1k/g6jpvmcs1cxb7t87t60d7dy40000gn/T/ipykernel_53496/3641389979.py:2: SettingWithCopyWarning: \n",
      "A value is trying to be set on a copy of a slice from a DataFrame.\n",
      "Try using .loc[row_indexer,col_indexer] = value instead\n",
      "\n",
      "See the caveats in the documentation: https://pandas.pydata.org/pandas-docs/stable/user_guide/indexing.html#returning-a-view-versus-a-copy\n",
      "  train_df['remaining_time_days'] = round(train_df['remaining_time'] / 86400,3)\n",
      "/var/folders/1k/g6jpvmcs1cxb7t87t60d7dy40000gn/T/ipykernel_53496/3641389979.py:3: SettingWithCopyWarning: \n",
      "A value is trying to be set on a copy of a slice from a DataFrame.\n",
      "Try using .loc[row_indexer,col_indexer] = value instead\n",
      "\n",
      "See the caveats in the documentation: https://pandas.pydata.org/pandas-docs/stable/user_guide/indexing.html#returning-a-view-versus-a-copy\n",
      "  test_df['remaining_time_days'] = round(test_df['remaining_time'] / 86400,3)\n"
     ]
    }
   ],
   "source": [
    "train_df, test_df = pm4py.split_train_test(data_iqr, train_percentage=0.75)\n",
    "train_df['remaining_time_days'] = round(train_df['remaining_time'] / 86400,3) #add remaining time in days\n",
    "test_df['remaining_time_days'] = round(test_df['remaining_time'] / 86400,3) #add remaining time in days"
   ]
  },
  {
   "cell_type": "code",
   "execution_count": 138,
   "id": "a9b34425",
   "metadata": {},
   "outputs": [],
   "source": [
    "\n",
    "import pandas as pd\n",
    "\n",
    "def AggregateTransformer(X, case_id_col, num_cols, cat_cols, all_activities):\n",
    "    # Ensure concept:name is in cat_cols for dummy variable creation\n",
    "    if 'concept:name' not in cat_cols:\n",
    "        cat_cols.append('concept:name')\n",
    "\n",
    "    # Transform numeric columns\n",
    "    dt_numeric = pd.DataFrame()\n",
    "    if len(num_cols) > 0:\n",
    "        dt_numeric = X.groupby(case_id_col)[num_cols].agg([\"mean\", \"max\", \"min\", \"sum\", \"std\"])\n",
    "        dt_numeric.columns = ['_'.join(col).strip() for col in dt_numeric.columns.values]\n",
    "\n",
    "    # Transform categorical columns - creating dummy variables\n",
    "    dt_cat = pd.get_dummies(X[cat_cols])\n",
    "    dt_cat[case_id_col] = X[case_id_col]\n",
    "\n",
    "    # Group by case_id_col and sum to get count of each activity per case\n",
    "    dt_cat_grouped = dt_cat.groupby(case_id_col).sum()\n",
    "\n",
    "    # Add missing activity columns with 0 values\n",
    "    missing_activities = set(all_activities) - set(dt_cat_grouped.columns)\n",
    "    for activity in missing_activities:\n",
    "        dt_cat_grouped[activity] = 0\n",
    "\n",
    "    # Concatenate numeric and categorical data\n",
    "    dt_transformed = pd.concat([dt_cat_grouped, dt_numeric], axis=1)\n",
    "\n",
    "    # Fill missing values with 0\n",
    "    dt_transformed.fillna(0, inplace=True)\n",
    "    \n",
    "    return dt_transformed\n",
    "\n",
    "\n"
   ]
  },
  {
   "cell_type": "code",
   "execution_count": 145,
   "id": "ccfa9f02",
   "metadata": {},
   "outputs": [],
   "source": [
    "case_id_col = 'case:concept:name'\n",
    "y_col = 'remaining_time'\n",
    "dynamic_cat_cols = ['concept:name']\n",
    "static_cat_cols = ['case:LoanGoal','case:ApplicationType']\n",
    "dynamic_num_cols = ['FirstWithdrawalAmount','NumberOfTerms',\n",
    "                                 'OfferedAmount','MonthlyCost']\n",
    "static_num_cols = ['case:RequestedAmount']"
   ]
  },
  {
   "cell_type": "code",
   "execution_count": 146,
   "id": "3c20c725",
   "metadata": {},
   "outputs": [],
   "source": [
    "# Get prefixed with length 6,7,8,9,10\n",
    "bucket_train = []\n",
    "for len_prefix in [6,7,8,9,10]:\n",
    "    bucket_train.append(pm4py.get_prefixes_from_log(train_df, length=len_prefix, case_id_key='case:concept:name'))"
   ]
  },
  {
   "cell_type": "code",
   "execution_count": 147,
   "id": "c7e9881b",
   "metadata": {},
   "outputs": [],
   "source": [
    "# Get prefixed with length 6,7,8,9,10\n",
    "bucket_test = []\n",
    "for len_prefix in [6,7,8,9,10]:\n",
    "    bucket_test.append(pm4py.get_prefixes_from_log(test_df, length=len_prefix, case_id_key='case:concept:name'))"
   ]
  },
  {
   "cell_type": "code",
   "execution_count": 150,
   "id": "a2c7f5a2",
   "metadata": {},
   "outputs": [],
   "source": [
    "# encode training\n",
    "encoded_bucket = []\n",
    "for bucket in bucket_train:\n",
    "    encoded_bucket.append(AggregateTransformer(bucket,case_id_col,num_cols=dynamic_num_cols,cat_cols=dynamic_cat_cols, all_activities=all_act))"
   ]
  },
  {
   "cell_type": "code",
   "execution_count": 148,
   "id": "f4eac4fd",
   "metadata": {},
   "outputs": [],
   "source": [
    "# encode test\n",
    "encoded_test = []\n",
    "for bucket in bucket_test:\n",
    "    encoded_test.append(AggregateTransformer(bucket,case_id_col,num_cols=dynamic_num_cols,cat_cols=dynamic_cat_cols,all_activities=all_act))"
   ]
  },
  {
   "cell_type": "code",
   "execution_count": 149,
   "id": "7d8db4c0",
   "metadata": {},
   "outputs": [
    {
     "data": {
      "text/html": [
       "<div>\n",
       "<style scoped>\n",
       "    .dataframe tbody tr th:only-of-type {\n",
       "        vertical-align: middle;\n",
       "    }\n",
       "\n",
       "    .dataframe tbody tr th {\n",
       "        vertical-align: top;\n",
       "    }\n",
       "\n",
       "    .dataframe thead th {\n",
       "        text-align: right;\n",
       "    }\n",
       "</style>\n",
       "<table border=\"1\" class=\"dataframe\">\n",
       "  <thead>\n",
       "    <tr style=\"text-align: right;\">\n",
       "      <th></th>\n",
       "      <th>concept:name_A_Accepted</th>\n",
       "      <th>concept:name_A_Cancelled</th>\n",
       "      <th>concept:name_A_Concept</th>\n",
       "      <th>concept:name_A_Create Application</th>\n",
       "      <th>concept:name_A_Submitted</th>\n",
       "      <th>concept:name_O_Cancelled</th>\n",
       "      <th>concept:name_O_Create Offer</th>\n",
       "      <th>concept:name_O_Created</th>\n",
       "      <th>concept:name_O_Sent (mail and online)</th>\n",
       "      <th>concept:name_O_Sent (online only)</th>\n",
       "      <th>...</th>\n",
       "      <th>OfferedAmount_mean</th>\n",
       "      <th>OfferedAmount_max</th>\n",
       "      <th>OfferedAmount_min</th>\n",
       "      <th>OfferedAmount_sum</th>\n",
       "      <th>OfferedAmount_std</th>\n",
       "      <th>MonthlyCost_mean</th>\n",
       "      <th>MonthlyCost_max</th>\n",
       "      <th>MonthlyCost_min</th>\n",
       "      <th>MonthlyCost_sum</th>\n",
       "      <th>MonthlyCost_std</th>\n",
       "    </tr>\n",
       "    <tr>\n",
       "      <th>case:concept:name</th>\n",
       "      <th></th>\n",
       "      <th></th>\n",
       "      <th></th>\n",
       "      <th></th>\n",
       "      <th></th>\n",
       "      <th></th>\n",
       "      <th></th>\n",
       "      <th></th>\n",
       "      <th></th>\n",
       "      <th></th>\n",
       "      <th></th>\n",
       "      <th></th>\n",
       "      <th></th>\n",
       "      <th></th>\n",
       "      <th></th>\n",
       "      <th></th>\n",
       "      <th></th>\n",
       "      <th></th>\n",
       "      <th></th>\n",
       "      <th></th>\n",
       "      <th></th>\n",
       "    </tr>\n",
       "  </thead>\n",
       "  <tbody>\n",
       "    <tr>\n",
       "      <th>Application_1002626536</th>\n",
       "      <td>1</td>\n",
       "      <td>0</td>\n",
       "      <td>1</td>\n",
       "      <td>1</td>\n",
       "      <td>1</td>\n",
       "      <td>0</td>\n",
       "      <td>1</td>\n",
       "      <td>1</td>\n",
       "      <td>0</td>\n",
       "      <td>0</td>\n",
       "      <td>...</td>\n",
       "      <td>17500.0</td>\n",
       "      <td>17500.0</td>\n",
       "      <td>17500.0</td>\n",
       "      <td>17500.0</td>\n",
       "      <td>0.0</td>\n",
       "      <td>179.80</td>\n",
       "      <td>179.80</td>\n",
       "      <td>179.80</td>\n",
       "      <td>179.80</td>\n",
       "      <td>0.0</td>\n",
       "    </tr>\n",
       "    <tr>\n",
       "      <th>Application_1003445359</th>\n",
       "      <td>1</td>\n",
       "      <td>0</td>\n",
       "      <td>1</td>\n",
       "      <td>1</td>\n",
       "      <td>1</td>\n",
       "      <td>0</td>\n",
       "      <td>1</td>\n",
       "      <td>1</td>\n",
       "      <td>0</td>\n",
       "      <td>0</td>\n",
       "      <td>...</td>\n",
       "      <td>15000.0</td>\n",
       "      <td>15000.0</td>\n",
       "      <td>15000.0</td>\n",
       "      <td>15000.0</td>\n",
       "      <td>0.0</td>\n",
       "      <td>250.00</td>\n",
       "      <td>250.00</td>\n",
       "      <td>250.00</td>\n",
       "      <td>250.00</td>\n",
       "      <td>0.0</td>\n",
       "    </tr>\n",
       "    <tr>\n",
       "      <th>Application_1004618053</th>\n",
       "      <td>1</td>\n",
       "      <td>0</td>\n",
       "      <td>1</td>\n",
       "      <td>1</td>\n",
       "      <td>0</td>\n",
       "      <td>0</td>\n",
       "      <td>1</td>\n",
       "      <td>1</td>\n",
       "      <td>1</td>\n",
       "      <td>0</td>\n",
       "      <td>...</td>\n",
       "      <td>21000.0</td>\n",
       "      <td>21000.0</td>\n",
       "      <td>21000.0</td>\n",
       "      <td>21000.0</td>\n",
       "      <td>0.0</td>\n",
       "      <td>210.00</td>\n",
       "      <td>210.00</td>\n",
       "      <td>210.00</td>\n",
       "      <td>210.00</td>\n",
       "      <td>0.0</td>\n",
       "    </tr>\n",
       "    <tr>\n",
       "      <th>Application_1004718670</th>\n",
       "      <td>1</td>\n",
       "      <td>0</td>\n",
       "      <td>1</td>\n",
       "      <td>1</td>\n",
       "      <td>0</td>\n",
       "      <td>0</td>\n",
       "      <td>1</td>\n",
       "      <td>1</td>\n",
       "      <td>1</td>\n",
       "      <td>0</td>\n",
       "      <td>...</td>\n",
       "      <td>15000.0</td>\n",
       "      <td>15000.0</td>\n",
       "      <td>15000.0</td>\n",
       "      <td>15000.0</td>\n",
       "      <td>0.0</td>\n",
       "      <td>150.00</td>\n",
       "      <td>150.00</td>\n",
       "      <td>150.00</td>\n",
       "      <td>150.00</td>\n",
       "      <td>0.0</td>\n",
       "    </tr>\n",
       "    <tr>\n",
       "      <th>Application_1005878170</th>\n",
       "      <td>1</td>\n",
       "      <td>0</td>\n",
       "      <td>1</td>\n",
       "      <td>1</td>\n",
       "      <td>1</td>\n",
       "      <td>0</td>\n",
       "      <td>1</td>\n",
       "      <td>0</td>\n",
       "      <td>0</td>\n",
       "      <td>0</td>\n",
       "      <td>...</td>\n",
       "      <td>45000.0</td>\n",
       "      <td>45000.0</td>\n",
       "      <td>45000.0</td>\n",
       "      <td>45000.0</td>\n",
       "      <td>0.0</td>\n",
       "      <td>470.67</td>\n",
       "      <td>470.67</td>\n",
       "      <td>470.67</td>\n",
       "      <td>470.67</td>\n",
       "      <td>0.0</td>\n",
       "    </tr>\n",
       "    <tr>\n",
       "      <th>...</th>\n",
       "      <td>...</td>\n",
       "      <td>...</td>\n",
       "      <td>...</td>\n",
       "      <td>...</td>\n",
       "      <td>...</td>\n",
       "      <td>...</td>\n",
       "      <td>...</td>\n",
       "      <td>...</td>\n",
       "      <td>...</td>\n",
       "      <td>...</td>\n",
       "      <td>...</td>\n",
       "      <td>...</td>\n",
       "      <td>...</td>\n",
       "      <td>...</td>\n",
       "      <td>...</td>\n",
       "      <td>...</td>\n",
       "      <td>...</td>\n",
       "      <td>...</td>\n",
       "      <td>...</td>\n",
       "      <td>...</td>\n",
       "      <td>...</td>\n",
       "    </tr>\n",
       "    <tr>\n",
       "      <th>Application_997711293</th>\n",
       "      <td>1</td>\n",
       "      <td>0</td>\n",
       "      <td>1</td>\n",
       "      <td>1</td>\n",
       "      <td>1</td>\n",
       "      <td>0</td>\n",
       "      <td>1</td>\n",
       "      <td>1</td>\n",
       "      <td>0</td>\n",
       "      <td>0</td>\n",
       "      <td>...</td>\n",
       "      <td>54000.0</td>\n",
       "      <td>54000.0</td>\n",
       "      <td>54000.0</td>\n",
       "      <td>54000.0</td>\n",
       "      <td>0.0</td>\n",
       "      <td>549.84</td>\n",
       "      <td>549.84</td>\n",
       "      <td>549.84</td>\n",
       "      <td>549.84</td>\n",
       "      <td>0.0</td>\n",
       "    </tr>\n",
       "    <tr>\n",
       "      <th>Application_998310056</th>\n",
       "      <td>1</td>\n",
       "      <td>0</td>\n",
       "      <td>1</td>\n",
       "      <td>1</td>\n",
       "      <td>0</td>\n",
       "      <td>0</td>\n",
       "      <td>1</td>\n",
       "      <td>1</td>\n",
       "      <td>1</td>\n",
       "      <td>0</td>\n",
       "      <td>...</td>\n",
       "      <td>6700.0</td>\n",
       "      <td>6700.0</td>\n",
       "      <td>6700.0</td>\n",
       "      <td>6700.0</td>\n",
       "      <td>0.0</td>\n",
       "      <td>142.86</td>\n",
       "      <td>142.86</td>\n",
       "      <td>142.86</td>\n",
       "      <td>142.86</td>\n",
       "      <td>0.0</td>\n",
       "    </tr>\n",
       "    <tr>\n",
       "      <th>Application_998666405</th>\n",
       "      <td>1</td>\n",
       "      <td>0</td>\n",
       "      <td>1</td>\n",
       "      <td>1</td>\n",
       "      <td>1</td>\n",
       "      <td>0</td>\n",
       "      <td>1</td>\n",
       "      <td>0</td>\n",
       "      <td>0</td>\n",
       "      <td>0</td>\n",
       "      <td>...</td>\n",
       "      <td>45200.0</td>\n",
       "      <td>45200.0</td>\n",
       "      <td>45200.0</td>\n",
       "      <td>45200.0</td>\n",
       "      <td>0.0</td>\n",
       "      <td>460.24</td>\n",
       "      <td>460.24</td>\n",
       "      <td>460.24</td>\n",
       "      <td>460.24</td>\n",
       "      <td>0.0</td>\n",
       "    </tr>\n",
       "    <tr>\n",
       "      <th>Application_998722780</th>\n",
       "      <td>1</td>\n",
       "      <td>0</td>\n",
       "      <td>1</td>\n",
       "      <td>1</td>\n",
       "      <td>0</td>\n",
       "      <td>0</td>\n",
       "      <td>1</td>\n",
       "      <td>1</td>\n",
       "      <td>1</td>\n",
       "      <td>0</td>\n",
       "      <td>...</td>\n",
       "      <td>21000.0</td>\n",
       "      <td>21000.0</td>\n",
       "      <td>21000.0</td>\n",
       "      <td>21000.0</td>\n",
       "      <td>0.0</td>\n",
       "      <td>500.00</td>\n",
       "      <td>500.00</td>\n",
       "      <td>500.00</td>\n",
       "      <td>500.00</td>\n",
       "      <td>0.0</td>\n",
       "    </tr>\n",
       "    <tr>\n",
       "      <th>Application_999993812</th>\n",
       "      <td>1</td>\n",
       "      <td>0</td>\n",
       "      <td>1</td>\n",
       "      <td>1</td>\n",
       "      <td>1</td>\n",
       "      <td>0</td>\n",
       "      <td>1</td>\n",
       "      <td>1</td>\n",
       "      <td>0</td>\n",
       "      <td>0</td>\n",
       "      <td>...</td>\n",
       "      <td>30000.0</td>\n",
       "      <td>30000.0</td>\n",
       "      <td>30000.0</td>\n",
       "      <td>30000.0</td>\n",
       "      <td>0.0</td>\n",
       "      <td>349.13</td>\n",
       "      <td>349.13</td>\n",
       "      <td>349.13</td>\n",
       "      <td>349.13</td>\n",
       "      <td>0.0</td>\n",
       "    </tr>\n",
       "  </tbody>\n",
       "</table>\n",
       "<p>3206 rows × 42 columns</p>\n",
       "</div>"
      ],
      "text/plain": [
       "                        concept:name_A_Accepted  concept:name_A_Cancelled  \\\n",
       "case:concept:name                                                           \n",
       "Application_1002626536                        1                         0   \n",
       "Application_1003445359                        1                         0   \n",
       "Application_1004618053                        1                         0   \n",
       "Application_1004718670                        1                         0   \n",
       "Application_1005878170                        1                         0   \n",
       "...                                         ...                       ...   \n",
       "Application_997711293                         1                         0   \n",
       "Application_998310056                         1                         0   \n",
       "Application_998666405                         1                         0   \n",
       "Application_998722780                         1                         0   \n",
       "Application_999993812                         1                         0   \n",
       "\n",
       "                        concept:name_A_Concept  \\\n",
       "case:concept:name                                \n",
       "Application_1002626536                       1   \n",
       "Application_1003445359                       1   \n",
       "Application_1004618053                       1   \n",
       "Application_1004718670                       1   \n",
       "Application_1005878170                       1   \n",
       "...                                        ...   \n",
       "Application_997711293                        1   \n",
       "Application_998310056                        1   \n",
       "Application_998666405                        1   \n",
       "Application_998722780                        1   \n",
       "Application_999993812                        1   \n",
       "\n",
       "                        concept:name_A_Create Application  \\\n",
       "case:concept:name                                           \n",
       "Application_1002626536                                  1   \n",
       "Application_1003445359                                  1   \n",
       "Application_1004618053                                  1   \n",
       "Application_1004718670                                  1   \n",
       "Application_1005878170                                  1   \n",
       "...                                                   ...   \n",
       "Application_997711293                                   1   \n",
       "Application_998310056                                   1   \n",
       "Application_998666405                                   1   \n",
       "Application_998722780                                   1   \n",
       "Application_999993812                                   1   \n",
       "\n",
       "                        concept:name_A_Submitted  concept:name_O_Cancelled  \\\n",
       "case:concept:name                                                            \n",
       "Application_1002626536                         1                         0   \n",
       "Application_1003445359                         1                         0   \n",
       "Application_1004618053                         0                         0   \n",
       "Application_1004718670                         0                         0   \n",
       "Application_1005878170                         1                         0   \n",
       "...                                          ...                       ...   \n",
       "Application_997711293                          1                         0   \n",
       "Application_998310056                          0                         0   \n",
       "Application_998666405                          1                         0   \n",
       "Application_998722780                          0                         0   \n",
       "Application_999993812                          1                         0   \n",
       "\n",
       "                        concept:name_O_Create Offer  concept:name_O_Created  \\\n",
       "case:concept:name                                                             \n",
       "Application_1002626536                            1                       1   \n",
       "Application_1003445359                            1                       1   \n",
       "Application_1004618053                            1                       1   \n",
       "Application_1004718670                            1                       1   \n",
       "Application_1005878170                            1                       0   \n",
       "...                                             ...                     ...   \n",
       "Application_997711293                             1                       1   \n",
       "Application_998310056                             1                       1   \n",
       "Application_998666405                             1                       0   \n",
       "Application_998722780                             1                       1   \n",
       "Application_999993812                             1                       1   \n",
       "\n",
       "                        concept:name_O_Sent (mail and online)  \\\n",
       "case:concept:name                                               \n",
       "Application_1002626536                                      0   \n",
       "Application_1003445359                                      0   \n",
       "Application_1004618053                                      1   \n",
       "Application_1004718670                                      1   \n",
       "Application_1005878170                                      0   \n",
       "...                                                       ...   \n",
       "Application_997711293                                       0   \n",
       "Application_998310056                                       1   \n",
       "Application_998666405                                       0   \n",
       "Application_998722780                                       1   \n",
       "Application_999993812                                       0   \n",
       "\n",
       "                        concept:name_O_Sent (online only)  ...  \\\n",
       "case:concept:name                                          ...   \n",
       "Application_1002626536                                  0  ...   \n",
       "Application_1003445359                                  0  ...   \n",
       "Application_1004618053                                  0  ...   \n",
       "Application_1004718670                                  0  ...   \n",
       "Application_1005878170                                  0  ...   \n",
       "...                                                   ...  ...   \n",
       "Application_997711293                                   0  ...   \n",
       "Application_998310056                                   0  ...   \n",
       "Application_998666405                                   0  ...   \n",
       "Application_998722780                                   0  ...   \n",
       "Application_999993812                                   0  ...   \n",
       "\n",
       "                        OfferedAmount_mean  OfferedAmount_max  \\\n",
       "case:concept:name                                               \n",
       "Application_1002626536             17500.0            17500.0   \n",
       "Application_1003445359             15000.0            15000.0   \n",
       "Application_1004618053             21000.0            21000.0   \n",
       "Application_1004718670             15000.0            15000.0   \n",
       "Application_1005878170             45000.0            45000.0   \n",
       "...                                    ...                ...   \n",
       "Application_997711293              54000.0            54000.0   \n",
       "Application_998310056               6700.0             6700.0   \n",
       "Application_998666405              45200.0            45200.0   \n",
       "Application_998722780              21000.0            21000.0   \n",
       "Application_999993812              30000.0            30000.0   \n",
       "\n",
       "                        OfferedAmount_min  OfferedAmount_sum  \\\n",
       "case:concept:name                                              \n",
       "Application_1002626536            17500.0            17500.0   \n",
       "Application_1003445359            15000.0            15000.0   \n",
       "Application_1004618053            21000.0            21000.0   \n",
       "Application_1004718670            15000.0            15000.0   \n",
       "Application_1005878170            45000.0            45000.0   \n",
       "...                                   ...                ...   \n",
       "Application_997711293             54000.0            54000.0   \n",
       "Application_998310056              6700.0             6700.0   \n",
       "Application_998666405             45200.0            45200.0   \n",
       "Application_998722780             21000.0            21000.0   \n",
       "Application_999993812             30000.0            30000.0   \n",
       "\n",
       "                        OfferedAmount_std  MonthlyCost_mean  MonthlyCost_max  \\\n",
       "case:concept:name                                                              \n",
       "Application_1002626536                0.0            179.80           179.80   \n",
       "Application_1003445359                0.0            250.00           250.00   \n",
       "Application_1004618053                0.0            210.00           210.00   \n",
       "Application_1004718670                0.0            150.00           150.00   \n",
       "Application_1005878170                0.0            470.67           470.67   \n",
       "...                                   ...               ...              ...   \n",
       "Application_997711293                 0.0            549.84           549.84   \n",
       "Application_998310056                 0.0            142.86           142.86   \n",
       "Application_998666405                 0.0            460.24           460.24   \n",
       "Application_998722780                 0.0            500.00           500.00   \n",
       "Application_999993812                 0.0            349.13           349.13   \n",
       "\n",
       "                        MonthlyCost_min  MonthlyCost_sum  MonthlyCost_std  \n",
       "case:concept:name                                                          \n",
       "Application_1002626536           179.80           179.80              0.0  \n",
       "Application_1003445359           250.00           250.00              0.0  \n",
       "Application_1004618053           210.00           210.00              0.0  \n",
       "Application_1004718670           150.00           150.00              0.0  \n",
       "Application_1005878170           470.67           470.67              0.0  \n",
       "...                                 ...              ...              ...  \n",
       "Application_997711293            549.84           549.84              0.0  \n",
       "Application_998310056            142.86           142.86              0.0  \n",
       "Application_998666405            460.24           460.24              0.0  \n",
       "Application_998722780            500.00           500.00              0.0  \n",
       "Application_999993812            349.13           349.13              0.0  \n",
       "\n",
       "[3206 rows x 42 columns]"
      ]
     },
     "execution_count": 149,
     "metadata": {},
     "output_type": "execute_result"
    }
   ],
   "source": [
    "encoded_test[0]"
   ]
  },
  {
   "cell_type": "code",
   "execution_count": 152,
   "id": "9e65639b",
   "metadata": {},
   "outputs": [],
   "source": [
    "#make data frames\n",
    "df0=pd.DataFrame(encoded_bucket[0])\n",
    "dfy0=pd.DataFrame(bucket_train[0])\n",
    "\n",
    "df_test0=pd.DataFrame(encoded_test[0])\n",
    "dfy_test0= pd.DataFrame(bucket_test[0])\n"
   ]
  },
  {
   "cell_type": "code",
   "execution_count": 154,
   "id": "1565fa47",
   "metadata": {},
   "outputs": [],
   "source": [
    "#function to get labels ready\n",
    "def df4prediction(df_train, df_y , case_id_col):\n",
    " \n",
    "    df_= df_y.groupby(case_id_col)['remaining_time'].last().reset_index()\n",
    "    Y=df_['remaining_time']\n",
    "\n",
    "    df_y_days= df_y.groupby(case_id_col)['remaining_time_days'].last().reset_index()\n",
    "    Y_days=df_y_days['remaining_time_days']\n",
    "\n",
    "    return df_train, Y, Y_days\n"
   ]
  },
  {
   "cell_type": "markdown",
   "id": "eb6b7bd2",
   "metadata": {},
   "source": [
    "### bucket 0"
   ]
  },
  {
   "cell_type": "code",
   "execution_count": 156,
   "id": "ad326f27",
   "metadata": {},
   "outputs": [],
   "source": [
    "df_train0, Y0, Y_days0=df4prediction(df0,dfy0,case_id_col)\n"
   ]
  },
  {
   "cell_type": "code",
   "execution_count": 158,
   "id": "31f3361d",
   "metadata": {},
   "outputs": [],
   "source": [
    "df_test0, Y0_test, Y_days0_test=df4prediction(df_test0,dfy_test0,case_id_col)\n"
   ]
  },
  {
   "cell_type": "code",
   "execution_count": 159,
   "id": "cd8f115b",
   "metadata": {},
   "outputs": [],
   "source": [
    "from sklearn.ensemble import RandomForestRegressor\n",
    "from sklearn.metrics import mean_squared_error, mean_absolute_error"
   ]
  },
  {
   "cell_type": "code",
   "execution_count": 160,
   "id": "85cc816a",
   "metadata": {},
   "outputs": [
    {
     "data": {
      "text/html": [
       "<style>#sk-container-id-7 {color: black;}#sk-container-id-7 pre{padding: 0;}#sk-container-id-7 div.sk-toggleable {background-color: white;}#sk-container-id-7 label.sk-toggleable__label {cursor: pointer;display: block;width: 100%;margin-bottom: 0;padding: 0.3em;box-sizing: border-box;text-align: center;}#sk-container-id-7 label.sk-toggleable__label-arrow:before {content: \"▸\";float: left;margin-right: 0.25em;color: #696969;}#sk-container-id-7 label.sk-toggleable__label-arrow:hover:before {color: black;}#sk-container-id-7 div.sk-estimator:hover label.sk-toggleable__label-arrow:before {color: black;}#sk-container-id-7 div.sk-toggleable__content {max-height: 0;max-width: 0;overflow: hidden;text-align: left;background-color: #f0f8ff;}#sk-container-id-7 div.sk-toggleable__content pre {margin: 0.2em;color: black;border-radius: 0.25em;background-color: #f0f8ff;}#sk-container-id-7 input.sk-toggleable__control:checked~div.sk-toggleable__content {max-height: 200px;max-width: 100%;overflow: auto;}#sk-container-id-7 input.sk-toggleable__control:checked~label.sk-toggleable__label-arrow:before {content: \"▾\";}#sk-container-id-7 div.sk-estimator input.sk-toggleable__control:checked~label.sk-toggleable__label {background-color: #d4ebff;}#sk-container-id-7 div.sk-label input.sk-toggleable__control:checked~label.sk-toggleable__label {background-color: #d4ebff;}#sk-container-id-7 input.sk-hidden--visually {border: 0;clip: rect(1px 1px 1px 1px);clip: rect(1px, 1px, 1px, 1px);height: 1px;margin: -1px;overflow: hidden;padding: 0;position: absolute;width: 1px;}#sk-container-id-7 div.sk-estimator {font-family: monospace;background-color: #f0f8ff;border: 1px dotted black;border-radius: 0.25em;box-sizing: border-box;margin-bottom: 0.5em;}#sk-container-id-7 div.sk-estimator:hover {background-color: #d4ebff;}#sk-container-id-7 div.sk-parallel-item::after {content: \"\";width: 100%;border-bottom: 1px solid gray;flex-grow: 1;}#sk-container-id-7 div.sk-label:hover label.sk-toggleable__label {background-color: #d4ebff;}#sk-container-id-7 div.sk-serial::before {content: \"\";position: absolute;border-left: 1px solid gray;box-sizing: border-box;top: 0;bottom: 0;left: 50%;z-index: 0;}#sk-container-id-7 div.sk-serial {display: flex;flex-direction: column;align-items: center;background-color: white;padding-right: 0.2em;padding-left: 0.2em;position: relative;}#sk-container-id-7 div.sk-item {position: relative;z-index: 1;}#sk-container-id-7 div.sk-parallel {display: flex;align-items: stretch;justify-content: center;background-color: white;position: relative;}#sk-container-id-7 div.sk-item::before, #sk-container-id-7 div.sk-parallel-item::before {content: \"\";position: absolute;border-left: 1px solid gray;box-sizing: border-box;top: 0;bottom: 0;left: 50%;z-index: -1;}#sk-container-id-7 div.sk-parallel-item {display: flex;flex-direction: column;z-index: 1;position: relative;background-color: white;}#sk-container-id-7 div.sk-parallel-item:first-child::after {align-self: flex-end;width: 50%;}#sk-container-id-7 div.sk-parallel-item:last-child::after {align-self: flex-start;width: 50%;}#sk-container-id-7 div.sk-parallel-item:only-child::after {width: 0;}#sk-container-id-7 div.sk-dashed-wrapped {border: 1px dashed gray;margin: 0 0.4em 0.5em 0.4em;box-sizing: border-box;padding-bottom: 0.4em;background-color: white;}#sk-container-id-7 div.sk-label label {font-family: monospace;font-weight: bold;display: inline-block;line-height: 1.2em;}#sk-container-id-7 div.sk-label-container {text-align: center;}#sk-container-id-7 div.sk-container {/* jupyter's `normalize.less` sets `[hidden] { display: none; }` but bootstrap.min.css set `[hidden] { display: none !important; }` so we also need the `!important` here to be able to override the default hidden behavior on the sphinx rendered scikit-learn.org. See: https://github.com/scikit-learn/scikit-learn/issues/21755 */display: inline-block !important;position: relative;}#sk-container-id-7 div.sk-text-repr-fallback {display: none;}</style><div id=\"sk-container-id-7\" class=\"sk-top-container\"><div class=\"sk-text-repr-fallback\"><pre>RandomForestRegressor(random_state=42)</pre><b>In a Jupyter environment, please rerun this cell to show the HTML representation or trust the notebook. <br />On GitHub, the HTML representation is unable to render, please try loading this page with nbviewer.org.</b></div><div class=\"sk-container\" hidden><div class=\"sk-item\"><div class=\"sk-estimator sk-toggleable\"><input class=\"sk-toggleable__control sk-hidden--visually\" id=\"sk-estimator-id-7\" type=\"checkbox\" checked><label for=\"sk-estimator-id-7\" class=\"sk-toggleable__label sk-toggleable__label-arrow\">RandomForestRegressor</label><div class=\"sk-toggleable__content\"><pre>RandomForestRegressor(random_state=42)</pre></div></div></div></div></div>"
      ],
      "text/plain": [
       "RandomForestRegressor(random_state=42)"
      ]
     },
     "execution_count": 160,
     "metadata": {},
     "output_type": "execute_result"
    }
   ],
   "source": [
    "rf_model = RandomForestRegressor(random_state=42)\n",
    "rf_model.fit(df_train0, Y0 ) #random forest seconds\n"
   ]
  },
  {
   "cell_type": "code",
   "execution_count": 161,
   "id": "8e4a40cd",
   "metadata": {},
   "outputs": [
    {
     "data": {
      "text/html": [
       "<style>#sk-container-id-8 {color: black;}#sk-container-id-8 pre{padding: 0;}#sk-container-id-8 div.sk-toggleable {background-color: white;}#sk-container-id-8 label.sk-toggleable__label {cursor: pointer;display: block;width: 100%;margin-bottom: 0;padding: 0.3em;box-sizing: border-box;text-align: center;}#sk-container-id-8 label.sk-toggleable__label-arrow:before {content: \"▸\";float: left;margin-right: 0.25em;color: #696969;}#sk-container-id-8 label.sk-toggleable__label-arrow:hover:before {color: black;}#sk-container-id-8 div.sk-estimator:hover label.sk-toggleable__label-arrow:before {color: black;}#sk-container-id-8 div.sk-toggleable__content {max-height: 0;max-width: 0;overflow: hidden;text-align: left;background-color: #f0f8ff;}#sk-container-id-8 div.sk-toggleable__content pre {margin: 0.2em;color: black;border-radius: 0.25em;background-color: #f0f8ff;}#sk-container-id-8 input.sk-toggleable__control:checked~div.sk-toggleable__content {max-height: 200px;max-width: 100%;overflow: auto;}#sk-container-id-8 input.sk-toggleable__control:checked~label.sk-toggleable__label-arrow:before {content: \"▾\";}#sk-container-id-8 div.sk-estimator input.sk-toggleable__control:checked~label.sk-toggleable__label {background-color: #d4ebff;}#sk-container-id-8 div.sk-label input.sk-toggleable__control:checked~label.sk-toggleable__label {background-color: #d4ebff;}#sk-container-id-8 input.sk-hidden--visually {border: 0;clip: rect(1px 1px 1px 1px);clip: rect(1px, 1px, 1px, 1px);height: 1px;margin: -1px;overflow: hidden;padding: 0;position: absolute;width: 1px;}#sk-container-id-8 div.sk-estimator {font-family: monospace;background-color: #f0f8ff;border: 1px dotted black;border-radius: 0.25em;box-sizing: border-box;margin-bottom: 0.5em;}#sk-container-id-8 div.sk-estimator:hover {background-color: #d4ebff;}#sk-container-id-8 div.sk-parallel-item::after {content: \"\";width: 100%;border-bottom: 1px solid gray;flex-grow: 1;}#sk-container-id-8 div.sk-label:hover label.sk-toggleable__label {background-color: #d4ebff;}#sk-container-id-8 div.sk-serial::before {content: \"\";position: absolute;border-left: 1px solid gray;box-sizing: border-box;top: 0;bottom: 0;left: 50%;z-index: 0;}#sk-container-id-8 div.sk-serial {display: flex;flex-direction: column;align-items: center;background-color: white;padding-right: 0.2em;padding-left: 0.2em;position: relative;}#sk-container-id-8 div.sk-item {position: relative;z-index: 1;}#sk-container-id-8 div.sk-parallel {display: flex;align-items: stretch;justify-content: center;background-color: white;position: relative;}#sk-container-id-8 div.sk-item::before, #sk-container-id-8 div.sk-parallel-item::before {content: \"\";position: absolute;border-left: 1px solid gray;box-sizing: border-box;top: 0;bottom: 0;left: 50%;z-index: -1;}#sk-container-id-8 div.sk-parallel-item {display: flex;flex-direction: column;z-index: 1;position: relative;background-color: white;}#sk-container-id-8 div.sk-parallel-item:first-child::after {align-self: flex-end;width: 50%;}#sk-container-id-8 div.sk-parallel-item:last-child::after {align-self: flex-start;width: 50%;}#sk-container-id-8 div.sk-parallel-item:only-child::after {width: 0;}#sk-container-id-8 div.sk-dashed-wrapped {border: 1px dashed gray;margin: 0 0.4em 0.5em 0.4em;box-sizing: border-box;padding-bottom: 0.4em;background-color: white;}#sk-container-id-8 div.sk-label label {font-family: monospace;font-weight: bold;display: inline-block;line-height: 1.2em;}#sk-container-id-8 div.sk-label-container {text-align: center;}#sk-container-id-8 div.sk-container {/* jupyter's `normalize.less` sets `[hidden] { display: none; }` but bootstrap.min.css set `[hidden] { display: none !important; }` so we also need the `!important` here to be able to override the default hidden behavior on the sphinx rendered scikit-learn.org. See: https://github.com/scikit-learn/scikit-learn/issues/21755 */display: inline-block !important;position: relative;}#sk-container-id-8 div.sk-text-repr-fallback {display: none;}</style><div id=\"sk-container-id-8\" class=\"sk-top-container\"><div class=\"sk-text-repr-fallback\"><pre>RandomForestRegressor(random_state=42)</pre><b>In a Jupyter environment, please rerun this cell to show the HTML representation or trust the notebook. <br />On GitHub, the HTML representation is unable to render, please try loading this page with nbviewer.org.</b></div><div class=\"sk-container\" hidden><div class=\"sk-item\"><div class=\"sk-estimator sk-toggleable\"><input class=\"sk-toggleable__control sk-hidden--visually\" id=\"sk-estimator-id-8\" type=\"checkbox\" checked><label for=\"sk-estimator-id-8\" class=\"sk-toggleable__label sk-toggleable__label-arrow\">RandomForestRegressor</label><div class=\"sk-toggleable__content\"><pre>RandomForestRegressor(random_state=42)</pre></div></div></div></div></div>"
      ],
      "text/plain": [
       "RandomForestRegressor(random_state=42)"
      ]
     },
     "execution_count": 161,
     "metadata": {},
     "output_type": "execute_result"
    }
   ],
   "source": [
    "rf_model_days = RandomForestRegressor(random_state=42)\n",
    "rf_model_days.fit(df_train0, Y_days0 )  #random forest days"
   ]
  },
  {
   "cell_type": "code",
   "execution_count": 162,
   "id": "7fdf046d",
   "metadata": {},
   "outputs": [
    {
     "name": "stdout",
     "output_type": "stream",
     "text": [
      "Mean Squared Error: 469021075876.72986\n",
      "Mean Absolute Error: 591615.3613548309\n"
     ]
    }
   ],
   "source": [
    "y_pred = rf_model.predict(df_test0)\n",
    "\n",
    "# Calculate and print the errors\n",
    "mse = mean_squared_error(Y0_test, y_pred)\n",
    "mae = mean_absolute_error(Y0_test, y_pred)\n",
    "print(f\"Mean Squared Error: {mse}\")\n",
    "print(f\"Mean Absolute Error: {mae}\")"
   ]
  },
  {
   "cell_type": "code",
   "execution_count": 163,
   "id": "39971de5",
   "metadata": {},
   "outputs": [
    {
     "name": "stdout",
     "output_type": "stream",
     "text": [
      "Mean Squared Error: 62.8695527786695\n",
      "Mean Absolute Error: 6.850940887984516\n"
     ]
    }
   ],
   "source": [
    "y_pred_days = rf_model_days.predict(df_test0)\n",
    "\n",
    "# Calculate and print the errors\n",
    "mse = mean_squared_error(Y_days0_test, y_pred_days)\n",
    "mae = mean_absolute_error(Y_days0_test, y_pred_days)\n",
    "print(f\"Mean Squared Error: {mse}\")\n",
    "print(f\"Mean Absolute Error: {mae}\")"
   ]
  },
  {
   "cell_type": "code",
   "execution_count": 164,
   "id": "22895ed3",
   "metadata": {},
   "outputs": [
    {
     "data": {
      "text/html": [
       "<style>#sk-container-id-9 {color: black;}#sk-container-id-9 pre{padding: 0;}#sk-container-id-9 div.sk-toggleable {background-color: white;}#sk-container-id-9 label.sk-toggleable__label {cursor: pointer;display: block;width: 100%;margin-bottom: 0;padding: 0.3em;box-sizing: border-box;text-align: center;}#sk-container-id-9 label.sk-toggleable__label-arrow:before {content: \"▸\";float: left;margin-right: 0.25em;color: #696969;}#sk-container-id-9 label.sk-toggleable__label-arrow:hover:before {color: black;}#sk-container-id-9 div.sk-estimator:hover label.sk-toggleable__label-arrow:before {color: black;}#sk-container-id-9 div.sk-toggleable__content {max-height: 0;max-width: 0;overflow: hidden;text-align: left;background-color: #f0f8ff;}#sk-container-id-9 div.sk-toggleable__content pre {margin: 0.2em;color: black;border-radius: 0.25em;background-color: #f0f8ff;}#sk-container-id-9 input.sk-toggleable__control:checked~div.sk-toggleable__content {max-height: 200px;max-width: 100%;overflow: auto;}#sk-container-id-9 input.sk-toggleable__control:checked~label.sk-toggleable__label-arrow:before {content: \"▾\";}#sk-container-id-9 div.sk-estimator input.sk-toggleable__control:checked~label.sk-toggleable__label {background-color: #d4ebff;}#sk-container-id-9 div.sk-label input.sk-toggleable__control:checked~label.sk-toggleable__label {background-color: #d4ebff;}#sk-container-id-9 input.sk-hidden--visually {border: 0;clip: rect(1px 1px 1px 1px);clip: rect(1px, 1px, 1px, 1px);height: 1px;margin: -1px;overflow: hidden;padding: 0;position: absolute;width: 1px;}#sk-container-id-9 div.sk-estimator {font-family: monospace;background-color: #f0f8ff;border: 1px dotted black;border-radius: 0.25em;box-sizing: border-box;margin-bottom: 0.5em;}#sk-container-id-9 div.sk-estimator:hover {background-color: #d4ebff;}#sk-container-id-9 div.sk-parallel-item::after {content: \"\";width: 100%;border-bottom: 1px solid gray;flex-grow: 1;}#sk-container-id-9 div.sk-label:hover label.sk-toggleable__label {background-color: #d4ebff;}#sk-container-id-9 div.sk-serial::before {content: \"\";position: absolute;border-left: 1px solid gray;box-sizing: border-box;top: 0;bottom: 0;left: 50%;z-index: 0;}#sk-container-id-9 div.sk-serial {display: flex;flex-direction: column;align-items: center;background-color: white;padding-right: 0.2em;padding-left: 0.2em;position: relative;}#sk-container-id-9 div.sk-item {position: relative;z-index: 1;}#sk-container-id-9 div.sk-parallel {display: flex;align-items: stretch;justify-content: center;background-color: white;position: relative;}#sk-container-id-9 div.sk-item::before, #sk-container-id-9 div.sk-parallel-item::before {content: \"\";position: absolute;border-left: 1px solid gray;box-sizing: border-box;top: 0;bottom: 0;left: 50%;z-index: -1;}#sk-container-id-9 div.sk-parallel-item {display: flex;flex-direction: column;z-index: 1;position: relative;background-color: white;}#sk-container-id-9 div.sk-parallel-item:first-child::after {align-self: flex-end;width: 50%;}#sk-container-id-9 div.sk-parallel-item:last-child::after {align-self: flex-start;width: 50%;}#sk-container-id-9 div.sk-parallel-item:only-child::after {width: 0;}#sk-container-id-9 div.sk-dashed-wrapped {border: 1px dashed gray;margin: 0 0.4em 0.5em 0.4em;box-sizing: border-box;padding-bottom: 0.4em;background-color: white;}#sk-container-id-9 div.sk-label label {font-family: monospace;font-weight: bold;display: inline-block;line-height: 1.2em;}#sk-container-id-9 div.sk-label-container {text-align: center;}#sk-container-id-9 div.sk-container {/* jupyter's `normalize.less` sets `[hidden] { display: none; }` but bootstrap.min.css set `[hidden] { display: none !important; }` so we also need the `!important` here to be able to override the default hidden behavior on the sphinx rendered scikit-learn.org. See: https://github.com/scikit-learn/scikit-learn/issues/21755 */display: inline-block !important;position: relative;}#sk-container-id-9 div.sk-text-repr-fallback {display: none;}</style><div id=\"sk-container-id-9\" class=\"sk-top-container\"><div class=\"sk-text-repr-fallback\"><pre>LinearRegression()</pre><b>In a Jupyter environment, please rerun this cell to show the HTML representation or trust the notebook. <br />On GitHub, the HTML representation is unable to render, please try loading this page with nbviewer.org.</b></div><div class=\"sk-container\" hidden><div class=\"sk-item\"><div class=\"sk-estimator sk-toggleable\"><input class=\"sk-toggleable__control sk-hidden--visually\" id=\"sk-estimator-id-9\" type=\"checkbox\" checked><label for=\"sk-estimator-id-9\" class=\"sk-toggleable__label sk-toggleable__label-arrow\">LinearRegression</label><div class=\"sk-toggleable__content\"><pre>LinearRegression()</pre></div></div></div></div></div>"
      ],
      "text/plain": [
       "LinearRegression()"
      ]
     },
     "execution_count": 164,
     "metadata": {},
     "output_type": "execute_result"
    }
   ],
   "source": [
    "from sklearn.linear_model import LinearRegression\n",
    "from sklearn.metrics import mean_squared_error, r2_score\n",
    "\n",
    "regressor = LinearRegression()\n",
    "\n",
    "#linear regreession days\n",
    "regressor.fit(df_train0, Y_days0)\n",
    "\n"
   ]
  },
  {
   "cell_type": "code",
   "execution_count": 165,
   "id": "2f822c33",
   "metadata": {},
   "outputs": [
    {
     "name": "stdout",
     "output_type": "stream",
     "text": [
      "Mean squared error: 56.93124694151007\n",
      "Coefficient of determination: 0.009316642758964377\n"
     ]
    }
   ],
   "source": [
    "\n",
    "y_pred = regressor.predict(df_test0)\n",
    "\n",
    "\n",
    "# The mean squared error\n",
    "print('Mean squared error:', mean_squared_error(Y_days0_test, y_pred))\n",
    "\n",
    "# The coefficient of determination: 1 is perfect prediction\n",
    "print('Coefficient of determination:', r2_score(Y_days0_test, y_pred))"
   ]
  },
  {
   "cell_type": "markdown",
   "id": "5a1d673a",
   "metadata": {},
   "source": [
    "### Bucket 1"
   ]
  },
  {
   "cell_type": "code",
   "execution_count": 169,
   "id": "63dec2cb",
   "metadata": {},
   "outputs": [],
   "source": [
    "#prepare training data\n",
    "x_train1=encoded_bucket[1]\n",
    "y_train1= bucket_train[1]\n",
    "x_train1,y_train1,y_train_days1=df4prediction(x_train1,y_train1,case_id_col)\n",
    "\n",
    "\n"
   ]
  },
  {
   "cell_type": "code",
   "execution_count": 170,
   "id": "2471e478",
   "metadata": {},
   "outputs": [],
   "source": [
    "#prepare test data\n",
    "x_test1=encoded_test[1]\n",
    "y_test1= bucket_test[1]\n",
    "x_test1,y_test1,y_test_days1=df4prediction(x_test1,y_test1,case_id_col)\n"
   ]
  },
  {
   "cell_type": "code",
   "execution_count": 175,
   "id": "7abd7ef6",
   "metadata": {},
   "outputs": [
    {
     "name": "stdout",
     "output_type": "stream",
     "text": [
      "Mean Squared Error: 61.68201188788958\n",
      "Mean Absolute Error: 6.777553795071848\n"
     ]
    }
   ],
   "source": [
    "\n",
    "#random forest days\n",
    "rf1_model = RandomForestRegressor(random_state=42)\n",
    "rf1_model.fit(x_train1, y_train_days1 )\n",
    "\n",
    "y_pred = rf1_model.predict(x_test1)\n",
    "\n",
    "# Calculate and print the errors\n",
    "mse = mean_squared_error(y_test_days1, y_pred)\n",
    "mae = mean_absolute_error(y_test_days1, y_pred)\n",
    "print(f\"Mean Squared Error: {mse}\")\n",
    "print(f\"Mean Absolute Error: {mae}\")\n",
    "\n"
   ]
  },
  {
   "cell_type": "code",
   "execution_count": 177,
   "id": "ee85586a",
   "metadata": {},
   "outputs": [
    {
     "name": "stdout",
     "output_type": "stream",
     "text": [
      "Mean squared error: 56.81109399830614\n",
      "Coefficient of determination: 0.019816172756173756\n"
     ]
    }
   ],
   "source": [
    "#linear regression days\n",
    "regressor1 = LinearRegression()\n",
    "\n",
    "# Train the model using the training sets\n",
    "regressor1.fit(x_train1, y_train_days1)\n",
    "\n",
    "# Make predictions using the testing set\n",
    "y_pred = regressor1.predict(x_test1)\n",
    "\n",
    "\n",
    "# The mean squared error\n",
    "print('Mean squared error:', mean_squared_error(y_test_days1, y_pred))\n",
    "\n",
    "# The coefficient of determination: 1 is perfect prediction\n",
    "print('Coefficient of determination:', r2_score(y_test_days1, y_pred))\n"
   ]
  },
  {
   "cell_type": "markdown",
   "id": "1388b90a",
   "metadata": {},
   "source": [
    "### Bucket 2"
   ]
  },
  {
   "cell_type": "code",
   "execution_count": 189,
   "id": "7107ace2",
   "metadata": {},
   "outputs": [],
   "source": [
    "#prepare training data\n",
    "x_train2=encoded_bucket[2]\n",
    "y_train2= bucket_train[2]\n",
    "x_train2,y_train2,y_train_days2=df4prediction(x_train2,y_train2,case_id_col)"
   ]
  },
  {
   "cell_type": "code",
   "execution_count": 190,
   "id": "a24486db",
   "metadata": {},
   "outputs": [],
   "source": [
    "#prepare test data\n",
    "x_test2=encoded_test[2]\n",
    "y_test2= bucket_test[2]\n",
    "x_test2,y_test2,y_test_days2=df4prediction(x_test2,y_test2,case_id_col)"
   ]
  },
  {
   "cell_type": "code",
   "execution_count": 191,
   "id": "e3b20533",
   "metadata": {},
   "outputs": [
    {
     "name": "stdout",
     "output_type": "stream",
     "text": [
      "Mean Squared Error: 59.78375861954808\n",
      "Mean Absolute Error: 6.579225292977653\n"
     ]
    }
   ],
   "source": [
    "#random forest days\n",
    "rf2_model = RandomForestRegressor(random_state=42)\n",
    "rf2_model.fit(x_train2, y_train_days2 )\n",
    "\n",
    "y_pred = rf2_model.predict(x_test2)\n",
    "\n",
    "# Calculate and print the errors\n",
    "mse = mean_squared_error(y_test_days2, y_pred)\n",
    "mae = mean_absolute_error(y_test_days2, y_pred)\n",
    "print(f\"Mean Squared Error: {mse}\")\n",
    "print(f\"Mean Absolute Error: {mae}\")"
   ]
  },
  {
   "cell_type": "code",
   "execution_count": 192,
   "id": "6f5587b2",
   "metadata": {},
   "outputs": [
    {
     "name": "stdout",
     "output_type": "stream",
     "text": [
      "Mean squared error: 54.762361815532245\n",
      "Coefficient of determination: 0.23841692134368098\n"
     ]
    }
   ],
   "source": [
    "#linear regression days\n",
    "regressor2 = LinearRegression()\n",
    "\n",
    "# Train the model using the training sets\n",
    "regressor2.fit(x_train2, y_train_days2)\n",
    "\n",
    "# Make predictions using the testing set\n",
    "y_pred = regressor2.predict(x_test2)\n",
    "\n",
    "\n",
    "# The mean squared error\n",
    "print('Mean squared error:', mean_squared_error(y_test_days2, y_pred))\n",
    "\n",
    "# The coefficient of determination: 1 is perfect prediction\n",
    "print('Coefficient of determination:', r2_score(y_test_days2, y_pred))"
   ]
  },
  {
   "cell_type": "markdown",
   "id": "45be6914",
   "metadata": {},
   "source": [
    "### Bucket 3"
   ]
  },
  {
   "cell_type": "code",
   "execution_count": 194,
   "id": "7d6a08c0",
   "metadata": {},
   "outputs": [],
   "source": [
    "#prepare training data\n",
    "x_train3=encoded_bucket[3]\n",
    "y_train3= bucket_train[3]\n",
    "x_train3,y_train3,y_train_days3=df4prediction(x_train3,y_train3,case_id_col)"
   ]
  },
  {
   "cell_type": "code",
   "execution_count": 195,
   "id": "3b6ad267",
   "metadata": {},
   "outputs": [],
   "source": [
    "#prepare test data\n",
    "x_test3=encoded_test[3]\n",
    "y_test3= bucket_test[3]\n",
    "x_test3,y_test3,y_test_days3=df4prediction(x_test3,y_test3,case_id_col)"
   ]
  },
  {
   "cell_type": "code",
   "execution_count": 197,
   "id": "365e9e5e",
   "metadata": {},
   "outputs": [
    {
     "name": "stdout",
     "output_type": "stream",
     "text": [
      "Mean Squared Error: 102.71298021595433\n",
      "Mean Absolute Error: 7.955361128690022\n"
     ]
    }
   ],
   "source": [
    "#random forest days\n",
    "rf3_model = RandomForestRegressor(random_state=42)\n",
    "rf3_model.fit(x_train3, y_train_days3 )\n",
    "\n",
    "y_pred = rf3_model.predict(x_test3)\n",
    "\n",
    "# Calculate and print the errors\n",
    "mse = mean_squared_error(y_test_days3, y_pred)\n",
    "mae = mean_absolute_error(y_test_days3, y_pred)\n",
    "print(f\"Mean Squared Error: {mse}\")\n",
    "print(f\"Mean Absolute Error: {mae}\")"
   ]
  },
  {
   "cell_type": "code",
   "execution_count": 198,
   "id": "3706830c",
   "metadata": {},
   "outputs": [
    {
     "name": "stdout",
     "output_type": "stream",
     "text": [
      "Mean squared error: 154.17944718463326\n",
      "Coefficient of determination: -0.3309309257507145\n"
     ]
    }
   ],
   "source": [
    "#linear regression days\n",
    "regressor3 = LinearRegression()\n",
    "\n",
    "# Train the model using the training sets\n",
    "regressor3.fit(x_train3, y_train_days3)\n",
    "\n",
    "# Make predictions using the testing set\n",
    "y_pred = regressor3.predict(x_test3)\n",
    "\n",
    "\n",
    "# The mean squared error\n",
    "print('Mean squared error:', mean_squared_error(y_test_days3, y_pred))\n",
    "\n",
    "# The coefficient of determination: 1 is perfect prediction\n",
    "print('Coefficient of determination:', r2_score(y_test_days3, y_pred))"
   ]
  },
  {
   "cell_type": "markdown",
   "id": "7c25fc18",
   "metadata": {},
   "source": [
    "### Bucket 4"
   ]
  },
  {
   "cell_type": "code",
   "execution_count": 199,
   "id": "66f8785e",
   "metadata": {},
   "outputs": [],
   "source": [
    "#prepare training data\n",
    "x_train4=encoded_bucket[4]\n",
    "y_train4= bucket_train[4]\n",
    "x_train4,y_train4,y_train_days4=df4prediction(x_train4,y_train4,case_id_col)"
   ]
  },
  {
   "cell_type": "code",
   "execution_count": 200,
   "id": "d5dca6c6",
   "metadata": {},
   "outputs": [],
   "source": [
    "#prepare test data\n",
    "x_test4=encoded_test[4]\n",
    "y_test4= bucket_test[4]\n",
    "x_test4,y_test4,y_test_days4=df4prediction(x_test4,y_test4,case_id_col)"
   ]
  },
  {
   "cell_type": "code",
   "execution_count": 201,
   "id": "c924ecc2",
   "metadata": {},
   "outputs": [
    {
     "name": "stdout",
     "output_type": "stream",
     "text": [
      "Mean Squared Error: 27.02373699569119\n",
      "Mean Absolute Error: 3.495141048137421\n"
     ]
    }
   ],
   "source": [
    "#random forest days\n",
    "rf4_model = RandomForestRegressor(random_state=42)\n",
    "rf4_model.fit(x_train4, y_train_days4 )\n",
    "\n",
    "y_pred = rf4_model.predict(x_test4)\n",
    "\n",
    "# Calculate and print the errors\n",
    "mse = mean_squared_error(y_test_days4, y_pred)\n",
    "mae = mean_absolute_error(y_test_days4, y_pred)\n",
    "print(f\"Mean Squared Error: {mse}\")\n",
    "print(f\"Mean Absolute Error: {mae}\")"
   ]
  },
  {
   "cell_type": "code",
   "execution_count": 202,
   "id": "5c5f8dd6",
   "metadata": {},
   "outputs": [
    {
     "name": "stdout",
     "output_type": "stream",
     "text": [
      "Mean squared error: 25.644802734595228\n",
      "Coefficient of determination: 0.6842944139699103\n"
     ]
    }
   ],
   "source": [
    "#linear regression days\n",
    "regressor4 = LinearRegression()\n",
    "\n",
    "# Train the model using the training sets\n",
    "regressor4.fit(x_train4, y_train_days4)\n",
    "\n",
    "# Make predictions using the testing set\n",
    "y_pred = regressor4.predict(x_test4)\n",
    "\n",
    "\n",
    "# The mean squared error\n",
    "print('Mean squared error:', mean_squared_error(y_test_days4, y_pred))\n",
    "\n",
    "# The coefficient of determination: 1 is perfect prediction\n",
    "print('Coefficient of determination:', r2_score(y_test_days4, y_pred))"
   ]
  }
 ],
 "metadata": {
  "kernelspec": {
   "display_name": "Python 3 (ipykernel)",
   "language": "python",
   "name": "python3"
  },
  "language_info": {
   "codemirror_mode": {
    "name": "ipython",
    "version": 3
   },
   "file_extension": ".py",
   "mimetype": "text/x-python",
   "name": "python",
   "nbconvert_exporter": "python",
   "pygments_lexer": "ipython3",
   "version": "3.9.9"
  }
 },
 "nbformat": 4,
 "nbformat_minor": 5
}
