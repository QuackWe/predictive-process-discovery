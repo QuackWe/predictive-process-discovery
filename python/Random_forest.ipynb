{
 "cells": [
  {
   "cell_type": "code",
   "execution_count": 2,
   "id": "69644b19",
   "metadata": {},
   "outputs": [
    {
     "name": "stderr",
     "output_type": "stream",
     "text": [
      "/usr/local/lib/python3.9/site-packages/scipy/__init__.py:146: UserWarning: A NumPy version >=1.16.5 and <1.23.0 is required for this version of SciPy (detected version 1.26.3\n",
      "  warnings.warn(f\"A NumPy version >={np_minversion} and <{np_maxversion}\"\n"
     ]
    }
   ],
   "source": [
    "import sys\n",
    "import pandas as pd\n",
    "import numpy as np\n",
    "\n",
    "from sklearn.model_selection import StratifiedKFold\n",
    "import pm4py\n",
    "import seaborn as sns\n",
    "import math\n",
    "import matplotlib.pyplot as plt"
   ]
  },
  {
   "cell_type": "markdown",
   "id": "03f3a1ea",
   "metadata": {},
   "source": [
    "# Data Preparation"
   ]
  },
  {
   "cell_type": "code",
   "execution_count": 3,
   "id": "c9936f46",
   "metadata": {},
   "outputs": [],
   "source": [
    "def read_and_prep_dataset(file_path):\n",
    "    # read dataset\n",
    "    data_raw = pm4py.read_xes(file_path)\n",
    "        \n",
    "    # Let's only consider the complete lifecycle:transition, this is because the value \"complete\" meaning\n",
    "    # the ongoing single event task is finished instead of being suspended or withdrawal, increasing the possibility to\n",
    "    # get more complete traces for our prediction\n",
    "    data_raw = data_raw[data_raw['lifecycle:transition'] == 'complete']\n",
    "    log = pm4py.convert_to_event_log(data_raw)\n",
    "        \n",
    "    # Only keep two most frequent traces, we believe these are the most complete traces\n",
    "    filtered_log = pm4py.filter_end_activities(log, ['A_Pending','O_Cancelled'])\n",
    "        \n",
    "    df = pm4py.convert_to_dataframe(filtered_log)\n",
    "    agg_dict = {\"time:timestamp\" :['min', 'max']}\n",
    "    duration_df = pd.DataFrame(df.groupby(\"case:concept:name\").agg(agg_dict)).reset_index()\n",
    "    duration_df[\"trace_duration_days\"] = (duration_df[(\"time:timestamp\",\"max\")] - duration_df[(\"time:timestamp\",\"min\")]).dt.total_seconds() / (24 * 60 * 60)\n",
    "    duration_df['trace_duration_days'] = duration_df['trace_duration_days'].apply(lambda x: math.ceil(x))\n",
    "    duration_df[\"trace_duration_seconds\"] = (duration_df[(\"time:timestamp\",\"max\")] - duration_df[(\"time:timestamp\",\"min\")]).dt.total_seconds()\n",
    "    duration_df.drop(columns=['time:timestamp'],inplace=True)\n",
    "    duration_df = duration_df.droplevel(1, axis=1)\n",
    "\n",
    "    df_with_duration = df.merge(duration_df, on='case:concept:name')\n",
    "    #df_with_duration['sum_Time_sec'] = df.groupby('case:concept:name')['time:timestamp'].transform(lambda x: x - x.iloc[0]).dt.total_seconds()\n",
    "    df_with_duration_remain = df_with_duration.copy()\n",
    "    df_with_duration_remain['remaining_time_seconds'] = df_with_duration.groupby('case:concept:name')['time:timestamp'].transform(lambda x: x.iloc[-1] - x).dt.total_seconds()\n",
    "    df_with_duration_remain['remaining_time_days'] = df_with_duration.groupby('case:concept:name')['time:timestamp'].transform(lambda x: x.iloc[-1] - x).dt.total_seconds() / (24 * 60 * 60)\n",
    "    df_with_duration_remain['remaining_time_days'] = df_with_duration_remain['remaining_time_days'].apply(lambda x: math.ceil(x))\n",
    "    \n",
    "    \n",
    "    #df_with_duration_remain['Complete_Timestamp'] = df_with_duration_remain.groupby('case:concept:name')['time:timestamp'].transform('last')\n",
    "    #df_with_duration['duration'] = df_with_duration.groupby('case:concept:name')['time:timestamp'].diff().dt.total_seconds()\n",
    "        \n",
    "    return df_with_duration_remain, log\n",
    "# Duration time, remaining_time cannot be used for testing, just for knowing data distribution"
   ]
  },
  {
   "cell_type": "code",
   "execution_count": 4,
   "id": "2ec3f936",
   "metadata": {},
   "outputs": [
    {
     "name": "stderr",
     "output_type": "stream",
     "text": [
      "/usr/local/lib/python3.9/site-packages/pm4py/util/dt_parsing/parser.py:77: UserWarning: ISO8601 strings are not fully supported with strpfromiso for Python versions below 3.11\n",
      "  warnings.warn(\n"
     ]
    },
    {
     "data": {
      "application/vnd.jupyter.widget-view+json": {
       "model_id": "70bbf0f716a241158d9a8d1f7eb8c187",
       "version_major": 2,
       "version_minor": 0
      },
      "text/plain": [
       "parsing log, completed traces ::   0%|          | 0/31509 [00:00<?, ?it/s]"
      ]
     },
     "metadata": {},
     "output_type": "display_data"
    },
    {
     "name": "stderr",
     "output_type": "stream",
     "text": [
      "/usr/local/lib/python3.9/site-packages/pm4py/utils.py:537: UserWarning: the EventLog class has been deprecated and will be removed in a future release.\n",
      "  warnings.warn(\"the EventLog class has been deprecated and will be removed in a future release.\")\n",
      "/var/folders/1k/g6jpvmcs1cxb7t87t60d7dy40000gn/T/ipykernel_68205/3488970716.py:20: PerformanceWarning: dropping on a non-lexsorted multi-index without a level parameter may impact performance.\n",
      "  duration_df.drop(columns=['time:timestamp'],inplace=True)\n"
     ]
    }
   ],
   "source": [
    "data,raw = read_and_prep_dataset('BPI_Challenge_2017.xes.gz')"
   ]
  },
  {
   "cell_type": "code",
   "execution_count": 5,
   "id": "cbaddaf0",
   "metadata": {},
   "outputs": [
    {
     "data": {
      "text/html": [
       "<div>\n",
       "<style scoped>\n",
       "    .dataframe tbody tr th:only-of-type {\n",
       "        vertical-align: middle;\n",
       "    }\n",
       "\n",
       "    .dataframe tbody tr th {\n",
       "        vertical-align: top;\n",
       "    }\n",
       "\n",
       "    .dataframe thead th {\n",
       "        text-align: right;\n",
       "    }\n",
       "</style>\n",
       "<table border=\"1\" class=\"dataframe\">\n",
       "  <thead>\n",
       "    <tr style=\"text-align: right;\">\n",
       "      <th></th>\n",
       "      <th>Action</th>\n",
       "      <th>org:resource</th>\n",
       "      <th>concept:name</th>\n",
       "      <th>EventOrigin</th>\n",
       "      <th>EventID</th>\n",
       "      <th>lifecycle:transition</th>\n",
       "      <th>time:timestamp</th>\n",
       "      <th>FirstWithdrawalAmount</th>\n",
       "      <th>NumberOfTerms</th>\n",
       "      <th>Accepted</th>\n",
       "      <th>...</th>\n",
       "      <th>OfferedAmount</th>\n",
       "      <th>OfferID</th>\n",
       "      <th>case:LoanGoal</th>\n",
       "      <th>case:ApplicationType</th>\n",
       "      <th>case:concept:name</th>\n",
       "      <th>case:RequestedAmount</th>\n",
       "      <th>trace_duration_days</th>\n",
       "      <th>trace_duration_seconds</th>\n",
       "      <th>remaining_time_seconds</th>\n",
       "      <th>remaining_time_days</th>\n",
       "    </tr>\n",
       "  </thead>\n",
       "  <tbody>\n",
       "    <tr>\n",
       "      <th>0</th>\n",
       "      <td>Created</td>\n",
       "      <td>User_1</td>\n",
       "      <td>A_Create Application</td>\n",
       "      <td>Application</td>\n",
       "      <td>Application_652823628</td>\n",
       "      <td>complete</td>\n",
       "      <td>2016-01-01 09:51:15.304000+00:00</td>\n",
       "      <td>NaN</td>\n",
       "      <td>NaN</td>\n",
       "      <td>NaN</td>\n",
       "      <td>...</td>\n",
       "      <td>NaN</td>\n",
       "      <td>NaN</td>\n",
       "      <td>Existing loan takeover</td>\n",
       "      <td>New credit</td>\n",
       "      <td>Application_652823628</td>\n",
       "      <td>20000.0</td>\n",
       "      <td>14</td>\n",
       "      <td>1144676.116</td>\n",
       "      <td>1144676.116</td>\n",
       "      <td>14</td>\n",
       "    </tr>\n",
       "    <tr>\n",
       "      <th>1</th>\n",
       "      <td>statechange</td>\n",
       "      <td>User_1</td>\n",
       "      <td>A_Submitted</td>\n",
       "      <td>Application</td>\n",
       "      <td>ApplState_1582051990</td>\n",
       "      <td>complete</td>\n",
       "      <td>2016-01-01 09:51:15.352000+00:00</td>\n",
       "      <td>NaN</td>\n",
       "      <td>NaN</td>\n",
       "      <td>NaN</td>\n",
       "      <td>...</td>\n",
       "      <td>NaN</td>\n",
       "      <td>NaN</td>\n",
       "      <td>Existing loan takeover</td>\n",
       "      <td>New credit</td>\n",
       "      <td>Application_652823628</td>\n",
       "      <td>20000.0</td>\n",
       "      <td>14</td>\n",
       "      <td>1144676.116</td>\n",
       "      <td>1144676.068</td>\n",
       "      <td>14</td>\n",
       "    </tr>\n",
       "    <tr>\n",
       "      <th>2</th>\n",
       "      <td>statechange</td>\n",
       "      <td>User_1</td>\n",
       "      <td>A_Concept</td>\n",
       "      <td>Application</td>\n",
       "      <td>ApplState_642383566</td>\n",
       "      <td>complete</td>\n",
       "      <td>2016-01-01 09:52:36.413000+00:00</td>\n",
       "      <td>NaN</td>\n",
       "      <td>NaN</td>\n",
       "      <td>NaN</td>\n",
       "      <td>...</td>\n",
       "      <td>NaN</td>\n",
       "      <td>NaN</td>\n",
       "      <td>Existing loan takeover</td>\n",
       "      <td>New credit</td>\n",
       "      <td>Application_652823628</td>\n",
       "      <td>20000.0</td>\n",
       "      <td>14</td>\n",
       "      <td>1144676.116</td>\n",
       "      <td>1144595.007</td>\n",
       "      <td>14</td>\n",
       "    </tr>\n",
       "    <tr>\n",
       "      <th>3</th>\n",
       "      <td>statechange</td>\n",
       "      <td>User_52</td>\n",
       "      <td>A_Accepted</td>\n",
       "      <td>Application</td>\n",
       "      <td>ApplState_99568828</td>\n",
       "      <td>complete</td>\n",
       "      <td>2016-01-02 11:23:04.299000+00:00</td>\n",
       "      <td>NaN</td>\n",
       "      <td>NaN</td>\n",
       "      <td>NaN</td>\n",
       "      <td>...</td>\n",
       "      <td>NaN</td>\n",
       "      <td>NaN</td>\n",
       "      <td>Existing loan takeover</td>\n",
       "      <td>New credit</td>\n",
       "      <td>Application_652823628</td>\n",
       "      <td>20000.0</td>\n",
       "      <td>14</td>\n",
       "      <td>1144676.116</td>\n",
       "      <td>1052767.121</td>\n",
       "      <td>13</td>\n",
       "    </tr>\n",
       "    <tr>\n",
       "      <th>4</th>\n",
       "      <td>Created</td>\n",
       "      <td>User_52</td>\n",
       "      <td>O_Create Offer</td>\n",
       "      <td>Offer</td>\n",
       "      <td>Offer_148581083</td>\n",
       "      <td>complete</td>\n",
       "      <td>2016-01-02 11:29:03.994000+00:00</td>\n",
       "      <td>20000.0</td>\n",
       "      <td>44.0</td>\n",
       "      <td>True</td>\n",
       "      <td>...</td>\n",
       "      <td>20000.0</td>\n",
       "      <td>NaN</td>\n",
       "      <td>Existing loan takeover</td>\n",
       "      <td>New credit</td>\n",
       "      <td>Application_652823628</td>\n",
       "      <td>20000.0</td>\n",
       "      <td>14</td>\n",
       "      <td>1144676.116</td>\n",
       "      <td>1052407.426</td>\n",
       "      <td>13</td>\n",
       "    </tr>\n",
       "    <tr>\n",
       "      <th>...</th>\n",
       "      <td>...</td>\n",
       "      <td>...</td>\n",
       "      <td>...</td>\n",
       "      <td>...</td>\n",
       "      <td>...</td>\n",
       "      <td>...</td>\n",
       "      <td>...</td>\n",
       "      <td>...</td>\n",
       "      <td>...</td>\n",
       "      <td>...</td>\n",
       "      <td>...</td>\n",
       "      <td>...</td>\n",
       "      <td>...</td>\n",
       "      <td>...</td>\n",
       "      <td>...</td>\n",
       "      <td>...</td>\n",
       "      <td>...</td>\n",
       "      <td>...</td>\n",
       "      <td>...</td>\n",
       "      <td>...</td>\n",
       "      <td>...</td>\n",
       "    </tr>\n",
       "    <tr>\n",
       "      <th>363341</th>\n",
       "      <td>statechange</td>\n",
       "      <td>User_96</td>\n",
       "      <td>O_Sent (mail and online)</td>\n",
       "      <td>Offer</td>\n",
       "      <td>OfferState_1959881309</td>\n",
       "      <td>complete</td>\n",
       "      <td>2017-01-02 19:27:20.453000+00:00</td>\n",
       "      <td>NaN</td>\n",
       "      <td>NaN</td>\n",
       "      <td>NaN</td>\n",
       "      <td>...</td>\n",
       "      <td>NaN</td>\n",
       "      <td>Offer_1580299144</td>\n",
       "      <td>Home improvement</td>\n",
       "      <td>New credit</td>\n",
       "      <td>Application_1350494635</td>\n",
       "      <td>20000.0</td>\n",
       "      <td>16</td>\n",
       "      <td>1340007.923</td>\n",
       "      <td>1175040.686</td>\n",
       "      <td>14</td>\n",
       "    </tr>\n",
       "    <tr>\n",
       "      <th>363342</th>\n",
       "      <td>Deleted</td>\n",
       "      <td>User_96</td>\n",
       "      <td>W_Complete application</td>\n",
       "      <td>Workflow</td>\n",
       "      <td>Workitem_22300685</td>\n",
       "      <td>complete</td>\n",
       "      <td>2017-01-02 19:27:20.465000+00:00</td>\n",
       "      <td>NaN</td>\n",
       "      <td>NaN</td>\n",
       "      <td>NaN</td>\n",
       "      <td>...</td>\n",
       "      <td>NaN</td>\n",
       "      <td>NaN</td>\n",
       "      <td>Home improvement</td>\n",
       "      <td>New credit</td>\n",
       "      <td>Application_1350494635</td>\n",
       "      <td>20000.0</td>\n",
       "      <td>16</td>\n",
       "      <td>1340007.923</td>\n",
       "      <td>1175040.674</td>\n",
       "      <td>14</td>\n",
       "    </tr>\n",
       "    <tr>\n",
       "      <th>363343</th>\n",
       "      <td>statechange</td>\n",
       "      <td>User_96</td>\n",
       "      <td>A_Complete</td>\n",
       "      <td>Application</td>\n",
       "      <td>ApplState_1120616436</td>\n",
       "      <td>complete</td>\n",
       "      <td>2017-01-02 19:27:20.474000+00:00</td>\n",
       "      <td>NaN</td>\n",
       "      <td>NaN</td>\n",
       "      <td>NaN</td>\n",
       "      <td>...</td>\n",
       "      <td>NaN</td>\n",
       "      <td>NaN</td>\n",
       "      <td>Home improvement</td>\n",
       "      <td>New credit</td>\n",
       "      <td>Application_1350494635</td>\n",
       "      <td>20000.0</td>\n",
       "      <td>16</td>\n",
       "      <td>1340007.923</td>\n",
       "      <td>1175040.665</td>\n",
       "      <td>14</td>\n",
       "    </tr>\n",
       "    <tr>\n",
       "      <th>363344</th>\n",
       "      <td>statechange</td>\n",
       "      <td>User_28</td>\n",
       "      <td>A_Cancelled</td>\n",
       "      <td>Application</td>\n",
       "      <td>ApplState_1869071797</td>\n",
       "      <td>complete</td>\n",
       "      <td>2017-01-16 09:51:21.114000+00:00</td>\n",
       "      <td>NaN</td>\n",
       "      <td>NaN</td>\n",
       "      <td>NaN</td>\n",
       "      <td>...</td>\n",
       "      <td>NaN</td>\n",
       "      <td>NaN</td>\n",
       "      <td>Home improvement</td>\n",
       "      <td>New credit</td>\n",
       "      <td>Application_1350494635</td>\n",
       "      <td>20000.0</td>\n",
       "      <td>16</td>\n",
       "      <td>1340007.923</td>\n",
       "      <td>0.025</td>\n",
       "      <td>1</td>\n",
       "    </tr>\n",
       "    <tr>\n",
       "      <th>363345</th>\n",
       "      <td>statechange</td>\n",
       "      <td>User_28</td>\n",
       "      <td>O_Cancelled</td>\n",
       "      <td>Offer</td>\n",
       "      <td>OfferState_420066181</td>\n",
       "      <td>complete</td>\n",
       "      <td>2017-01-16 09:51:21.139000+00:00</td>\n",
       "      <td>NaN</td>\n",
       "      <td>NaN</td>\n",
       "      <td>NaN</td>\n",
       "      <td>...</td>\n",
       "      <td>NaN</td>\n",
       "      <td>Offer_1580299144</td>\n",
       "      <td>Home improvement</td>\n",
       "      <td>New credit</td>\n",
       "      <td>Application_1350494635</td>\n",
       "      <td>20000.0</td>\n",
       "      <td>16</td>\n",
       "      <td>1340007.923</td>\n",
       "      <td>0.000</td>\n",
       "      <td>0</td>\n",
       "    </tr>\n",
       "  </tbody>\n",
       "</table>\n",
       "<p>363346 rows × 23 columns</p>\n",
       "</div>"
      ],
      "text/plain": [
       "             Action org:resource              concept:name  EventOrigin  \\\n",
       "0           Created       User_1      A_Create Application  Application   \n",
       "1       statechange       User_1               A_Submitted  Application   \n",
       "2       statechange       User_1                 A_Concept  Application   \n",
       "3       statechange      User_52                A_Accepted  Application   \n",
       "4           Created      User_52            O_Create Offer        Offer   \n",
       "...             ...          ...                       ...          ...   \n",
       "363341  statechange      User_96  O_Sent (mail and online)        Offer   \n",
       "363342      Deleted      User_96    W_Complete application     Workflow   \n",
       "363343  statechange      User_96                A_Complete  Application   \n",
       "363344  statechange      User_28               A_Cancelled  Application   \n",
       "363345  statechange      User_28               O_Cancelled        Offer   \n",
       "\n",
       "                      EventID lifecycle:transition  \\\n",
       "0       Application_652823628             complete   \n",
       "1        ApplState_1582051990             complete   \n",
       "2         ApplState_642383566             complete   \n",
       "3          ApplState_99568828             complete   \n",
       "4             Offer_148581083             complete   \n",
       "...                       ...                  ...   \n",
       "363341  OfferState_1959881309             complete   \n",
       "363342      Workitem_22300685             complete   \n",
       "363343   ApplState_1120616436             complete   \n",
       "363344   ApplState_1869071797             complete   \n",
       "363345   OfferState_420066181             complete   \n",
       "\n",
       "                         time:timestamp  FirstWithdrawalAmount  NumberOfTerms  \\\n",
       "0      2016-01-01 09:51:15.304000+00:00                    NaN            NaN   \n",
       "1      2016-01-01 09:51:15.352000+00:00                    NaN            NaN   \n",
       "2      2016-01-01 09:52:36.413000+00:00                    NaN            NaN   \n",
       "3      2016-01-02 11:23:04.299000+00:00                    NaN            NaN   \n",
       "4      2016-01-02 11:29:03.994000+00:00                20000.0           44.0   \n",
       "...                                 ...                    ...            ...   \n",
       "363341 2017-01-02 19:27:20.453000+00:00                    NaN            NaN   \n",
       "363342 2017-01-02 19:27:20.465000+00:00                    NaN            NaN   \n",
       "363343 2017-01-02 19:27:20.474000+00:00                    NaN            NaN   \n",
       "363344 2017-01-16 09:51:21.114000+00:00                    NaN            NaN   \n",
       "363345 2017-01-16 09:51:21.139000+00:00                    NaN            NaN   \n",
       "\n",
       "       Accepted  ...  OfferedAmount           OfferID           case:LoanGoal  \\\n",
       "0           NaN  ...            NaN               NaN  Existing loan takeover   \n",
       "1           NaN  ...            NaN               NaN  Existing loan takeover   \n",
       "2           NaN  ...            NaN               NaN  Existing loan takeover   \n",
       "3           NaN  ...            NaN               NaN  Existing loan takeover   \n",
       "4          True  ...        20000.0               NaN  Existing loan takeover   \n",
       "...         ...  ...            ...               ...                     ...   \n",
       "363341      NaN  ...            NaN  Offer_1580299144        Home improvement   \n",
       "363342      NaN  ...            NaN               NaN        Home improvement   \n",
       "363343      NaN  ...            NaN               NaN        Home improvement   \n",
       "363344      NaN  ...            NaN               NaN        Home improvement   \n",
       "363345      NaN  ...            NaN  Offer_1580299144        Home improvement   \n",
       "\n",
       "        case:ApplicationType       case:concept:name case:RequestedAmount  \\\n",
       "0                 New credit   Application_652823628              20000.0   \n",
       "1                 New credit   Application_652823628              20000.0   \n",
       "2                 New credit   Application_652823628              20000.0   \n",
       "3                 New credit   Application_652823628              20000.0   \n",
       "4                 New credit   Application_652823628              20000.0   \n",
       "...                      ...                     ...                  ...   \n",
       "363341            New credit  Application_1350494635              20000.0   \n",
       "363342            New credit  Application_1350494635              20000.0   \n",
       "363343            New credit  Application_1350494635              20000.0   \n",
       "363344            New credit  Application_1350494635              20000.0   \n",
       "363345            New credit  Application_1350494635              20000.0   \n",
       "\n",
       "       trace_duration_days trace_duration_seconds  remaining_time_seconds  \\\n",
       "0                       14            1144676.116             1144676.116   \n",
       "1                       14            1144676.116             1144676.068   \n",
       "2                       14            1144676.116             1144595.007   \n",
       "3                       14            1144676.116             1052767.121   \n",
       "4                       14            1144676.116             1052407.426   \n",
       "...                    ...                    ...                     ...   \n",
       "363341                  16            1340007.923             1175040.686   \n",
       "363342                  16            1340007.923             1175040.674   \n",
       "363343                  16            1340007.923             1175040.665   \n",
       "363344                  16            1340007.923                   0.025   \n",
       "363345                  16            1340007.923                   0.000   \n",
       "\n",
       "        remaining_time_days  \n",
       "0                        14  \n",
       "1                        14  \n",
       "2                        14  \n",
       "3                        13  \n",
       "4                        13  \n",
       "...                     ...  \n",
       "363341                   14  \n",
       "363342                   14  \n",
       "363343                   14  \n",
       "363344                    1  \n",
       "363345                    0  \n",
       "\n",
       "[363346 rows x 23 columns]"
      ]
     },
     "execution_count": 5,
     "metadata": {},
     "output_type": "execute_result"
    }
   ],
   "source": [
    "data\n"
   ]
  },
  {
   "cell_type": "code",
   "execution_count": 6,
   "id": "1421cf08",
   "metadata": {},
   "outputs": [
    {
     "data": {
      "image/png": "[encoded data removed]",
      "text/plain": [
       "<Figure size 432x288 with 1 Axes>"
      ]
     },
     "metadata": {
      "needs_background": "light"
     },
     "output_type": "display_data"
    }
   ],
   "source": [
    "sns.histplot(data['trace_duration_days'],bins=50, kde=True)\n",
    "plt.title('Duration Days Distribution for cases')\n",
    "plt.xlabel('Duration Days')\n",
    "plt.ylabel('Frequency')\n",
    "plt.show()"
   ]
  },
  {
   "cell_type": "code",
   "execution_count": 7,
   "id": "d7698786",
   "metadata": {},
   "outputs": [
    {
     "data": {
      "image/png": "[encoded data removed]",
      "text/plain": [
       "<Figure size 432x288 with 1 Axes>"
      ]
     },
     "metadata": {
      "needs_background": "light"
     },
     "output_type": "display_data"
    }
   ],
   "source": [
    "\n",
    "selected_rows_A_Incomplete = data[data['concept:name'] == 'A_Incomplete']\n",
    "\n",
    "\n",
    "\n",
    "sns.histplot(selected_rows_A_Incomplete['remaining_time_days'], bins=30, kde=True)\n",
    "plt.title('Remaining Time Distribution directly after occurrence of \\'A_Incomplete\\'')\n",
    "plt.xlabel('Remaining Days')\n",
    "plt.ylabel('Case Frequency')\n",
    "plt.show()"
   ]
  },
  {
   "cell_type": "code",
   "execution_count": 8,
   "id": "efbe16cc",
   "metadata": {},
   "outputs": [
    {
     "data": {
      "image/png": "[encoded data removed]",
      "text/plain": [
       "<Figure size 432x288 with 1 Axes>"
      ]
     },
     "metadata": {
      "needs_background": "light"
     },
     "output_type": "display_data"
    }
   ],
   "source": [
    "\n",
    "selected_rows_A_Complete = data[data['concept:name'] == 'A_Complete']\n",
    "\n",
    "\n",
    "\n",
    "sns.histplot(selected_rows_A_Complete['remaining_time_days'], bins=30, kde=True)\n",
    "plt.title('Remaining Time Distribution directly after occurrence of \\'A_Complete\\'')\n",
    "plt.xlabel('Remaining Days')\n",
    "plt.ylabel('Case Frequency')\n",
    "plt.show()"
   ]
  },
  {
   "cell_type": "code",
   "execution_count": 9,
   "id": "2e928d0c",
   "metadata": {},
   "outputs": [],
   "source": [
    "def find_order_Event(act, df):\n",
    "    # Extract cases containing the specified activity\n",
    "    matching_cases = df[(df['concept:name'] == act)]['case:concept:name']\n",
    "\n",
    "    # Filter rows that meet the condition\n",
    "    result_df = df[df['case:concept:name'].isin(matching_cases)]\n",
    "\n",
    "    # Sort the DataFrame by time and case\n",
    "    result_df = result_df.sort_values(by=['case:concept:name', 'time:timestamp'])\n",
    "\n",
    "    # Add order numbers for each occurrence of the specified activity\n",
    "    result_df[f'{act}_Order'] = result_df[result_df['concept:name'] == act].groupby('case:concept:name').cumcount() + 1\n",
    "\n",
    "    # Rename occurrences of the specified activity based on order number\n",
    "    result_df['concept:name'] = result_df.apply(lambda row: f\"{act}_{int(row[f'{act}_Order'])}\" \n",
    "                                              if row['concept:name'] == act else row['concept:name'], \n",
    "                                              axis=1)\n",
    "\n",
    "    # Drop the 'A_Incomplete_Order' column (if needed)\n",
    "    result_df = result_df.drop(f'{act}_Order', axis=1)\n",
    "    \n",
    "    return result_df"
   ]
  },
  {
   "cell_type": "code",
   "execution_count": 10,
   "id": "43bd0a95",
   "metadata": {},
   "outputs": [],
   "source": [
    "df_A_Incomplete = find_order_Event('A_Incomplete',data)"
   ]
  },
  {
   "cell_type": "code",
   "execution_count": 11,
   "id": "f3e19fc5",
   "metadata": {},
   "outputs": [],
   "source": [
    "import pandas as pd\n",
    "import seaborn as sns\n",
    "import matplotlib.pyplot as plt\n",
    "import math"
   ]
  },
  {
   "cell_type": "code",
   "execution_count": 12,
   "id": "6e35f597",
   "metadata": {},
   "outputs": [],
   "source": [
    "def plot_distribution(df, act, rows, num):\n",
    "\n",
    "    # Assume your DataFrame is df, 'remaining_time_days' represents remaining time, 'concept:name' represents activity\n",
    "    # Replace 'remaining_time_days' and 'concept:name' with your actual column names\n",
    "\n",
    "    # Select rows for the specified activity, ranging from 1 to num\n",
    "    selected_rows = df[df['concept:name'].isin([f'{act}_{i}' for i in range(1, num+1)])]\n",
    "\n",
    "    # Calculate the number of rows and columns\n",
    "    cols = math.ceil(len(selected_rows['concept:name'].unique()) / rows)\n",
    "\n",
    "    if cols == 1:\n",
    "        # Use seaborn's distplot to plot the histogram and curve\n",
    "        sns.histplot(data=selected_rows, x='remaining_time_days', bins=25, kde=True, color='red')\n",
    "        plt.title(f'Remaining Time Distribution after the occurrence of {act}')\n",
    "        plt.xlabel('Remaining Days')\n",
    "        plt.ylabel('Case Frequency')\n",
    "\n",
    "    else:\n",
    "        # Get the range of x-axis for all subplots\n",
    "        x_axis_range = selected_rows['remaining_time_days'].max()\n",
    "\n",
    "        # Set up subplot layout\n",
    "        fig, axes = plt.subplots(rows, cols, figsize=(13, 12))\n",
    "\n",
    "        # Plot multiple subplots together and set the same x-axis range\n",
    "        for i, (activity, group) in enumerate(selected_rows.groupby('concept:name')):\n",
    "            ax = axes[i // cols, i % cols]\n",
    "            sns.histplot(data=group, x='remaining_time_days', bins=25, kde=True, ax=ax, color='red', line_kws={'color': 'orange', 'linewidth': 3})\n",
    "            text_dict = {0: 'first', 1: 'second', 2: 'third', 3: 'fourth', 4: 'fifth', 5: 'sixth'}\n",
    "            ax.set_title('Remaining Time Distribution after the ' + text_dict[i] + ' occurrence of ' + act)\n",
    "            ax.set_xlabel('Remaining Days')\n",
    "            ax.set_ylabel('Case Frequency')\n",
    "            ax.set_xlim(0, x_axis_range)  # Set the same x-axis range\n",
    "\n",
    "    # Adjust layout\n",
    "    plt.tight_layout()\n",
    "    plt.show()\n"
   ]
  },
  {
   "cell_type": "code",
   "execution_count": 13,
   "id": "4957f507",
   "metadata": {},
   "outputs": [
    {
     "data": {
      "image/png": "[encoded data removed]",
      "text/plain": [
       "<Figure size 936x864 with 6 Axes>"
      ]
     },
     "metadata": {
      "needs_background": "light"
     },
     "output_type": "display_data"
    }
   ],
   "source": [
    "plot_distribution(df_A_Incomplete,'A_Incomplete',3,6)"
   ]
  },
  {
   "cell_type": "code",
   "execution_count": 14,
   "id": "2a18eb2c",
   "metadata": {},
   "outputs": [],
   "source": [
    "df_A_Complete = find_order_Event('A_Complete',data)"
   ]
  },
  {
   "cell_type": "code",
   "execution_count": 15,
   "id": "748f2890",
   "metadata": {},
   "outputs": [],
   "source": [
    "df_O_Accepted=find_order_Event('O_Accepted',data)\n",
    "df_W_Call_incomplete_filese=find_order_Event('W_Call incomplete files',data)\n",
    "df_W_Complete_application=find_order_Event('W_Complete application',data)"
   ]
  },
  {
   "cell_type": "code",
   "execution_count": 16,
   "id": "8737b1d6",
   "metadata": {},
   "outputs": [
    {
     "data": {
      "text/plain": [
       "198744    2815395.156\n",
       "198745    2815395.095\n",
       "198746    2815328.530\n",
       "198747    2649809.410\n",
       "198748    2649639.509\n",
       "             ...     \n",
       "274713     417385.227\n",
       "274714     417378.572\n",
       "274715     409200.767\n",
       "274716          0.003\n",
       "274717          0.000\n",
       "Name: remaining_time_seconds, Length: 362861, dtype: float64"
      ]
     },
     "execution_count": 16,
     "metadata": {},
     "output_type": "execute_result"
    }
   ],
   "source": [
    "df_A_Complete.remaining_time_seconds"
   ]
  },
  {
   "cell_type": "code",
   "execution_count": 17,
   "id": "2dd70dc4",
   "metadata": {},
   "outputs": [
    {
     "data": {
      "image/png": "[encoded data removed]",
      "text/plain": [
       "<Figure size 1080x720 with 4 Axes>"
      ]
     },
     "metadata": {},
     "output_type": "display_data"
    }
   ],
   "source": [
    "import matplotlib.pyplot as plt\n",
    "import seaborn as sns\n",
    "\n",
    "# Set the style of seaborn\n",
    "sns.set_style('whitegrid')\n",
    "\n",
    "# Define the number of subplots based on how many DataFrames you want to plot\n",
    "# In this case, we have 4 DataFrames\n",
    "fig, axes = plt.subplots(nrows=2, ncols=2, figsize=(15, 10))  # Adjust nrows and ncols as needed\n",
    "\n",
    "# Create boxplot for each DataFrame\n",
    "sns.boxplot(data=df_A_Incomplete, y='remaining_time_seconds', ax=axes[0, 0])\n",
    "axes[0, 0].set_title('Boxplot of A_Incomplete')\n",
    "axes[0, 0].set_ylabel('Remaining Time (seconds)')\n",
    "\n",
    "sns.boxplot(data=df_A_Complete, y='remaining_time_seconds', ax=axes[0, 1])\n",
    "axes[0, 1].set_title('Boxplot of A_Complete')\n",
    "axes[0, 1].set_ylabel('Remaining Time (seconds)')\n",
    "\n",
    "sns.boxplot(data=df_O_Accepted, y='remaining_time_seconds', ax=axes[1, 0])\n",
    "axes[1, 0].set_title('Boxplot of O_Accepted')\n",
    "axes[1, 0].set_ylabel('Remaining Time (seconds)')\n",
    "\n",
    "sns.boxplot(data=df_W_Call_incomplete_filese, y='remaining_time_seconds', ax=axes[1, 1])\n",
    "axes[1, 1].set_title('Boxplot of W_Call incomplete files')\n",
    "axes[1, 1].set_ylabel('Remaining Time (seconds)')\n",
    "\n",
    "# Adjust the layout\n",
    "plt.tight_layout()\n",
    "plt.show()\n",
    "\n"
   ]
  },
  {
   "cell_type": "code",
   "execution_count": 18,
   "id": "3e44d576",
   "metadata": {},
   "outputs": [
    {
     "data": {
      "image/png": "[encoded data removed]",
      "text/plain": [
       "<Figure size 432x288 with 1 Axes>"
      ]
     },
     "metadata": {},
     "output_type": "display_data"
    }
   ],
   "source": [
    "plot_distribution(df_A_Complete,'A_Complete',1,1)"
   ]
  },
  {
   "cell_type": "code",
   "execution_count": 19,
   "id": "1fca332d",
   "metadata": {},
   "outputs": [],
   "source": [
    "df_O_Returned = find_order_Event('O_Returned',data)"
   ]
  },
  {
   "cell_type": "code",
   "execution_count": 20,
   "id": "294dff01",
   "metadata": {},
   "outputs": [
    {
     "data": {
      "image/png": "[encoded data removed]",
      "text/plain": [
       "<Figure size 936x864 with 4 Axes>"
      ]
     },
     "metadata": {},
     "output_type": "display_data"
    }
   ],
   "source": [
    "plot_distribution(df_O_Returned,'O_Returned',2,3)"
   ]
  },
  {
   "cell_type": "markdown",
   "id": "7b1743ac",
   "metadata": {},
   "source": [
    "# Feature Selection and Encoding"
   ]
  },
  {
   "cell_type": "code",
   "execution_count": 21,
   "id": "af525ef6",
   "metadata": {},
   "outputs": [],
   "source": [
    "all_act=['concept:name_A_Create Application', 'concept:name_A_Submitted', 'concept:name_A_Concept', 'concept:name_A_Accepted',\n",
    "       'concept:name_O_Create Offer', 'concept:name_O_Created', 'concept:name_O_Sent (mail and online)',\n",
    "       'concept:name_A_Complete', 'concept:name_A_Validating', 'concept:name_O_Returned', 'concept:name_A_Incomplete',\n",
    "       'concept:name_O_Accepted', 'concept:name_A_Pending', 'concept:name_W_Complete application', 'concept:name_O_Cancelled',\n",
    "       'concept:name_W_Handle leads', 'concept:name_W_Validate application', 'concept:name_A_Cancelled',\n",
    "       'concept:name_O_Sent (online only)', 'concept:name_W_Call incomplete files',\n",
    "       'concept:name_W_Call after offers', 'concept:name_W_Assess potential fraud']"
   ]
  },
  {
   "cell_type": "code",
   "execution_count": 22,
   "id": "9d40e9d4",
   "metadata": {},
   "outputs": [],
   "source": [
    "case_id_col = 'case:concept:name'\n",
    "y_col = 'remaining_time_seconds'\n",
    "dynamic_cat_cols = ['concept:name','Action','Selected','Accepted','org:resource']\n",
    "static_cat_cols = ['case:LoanGoal']\n",
    "dynamic_num_cols = ['FirstWithdrawalAmount','NumberOfTerms',\n",
    "                                 'OfferedAmount','MonthlyCost']\n",
    "static_num_cols = ['case:RequestedAmount']\n",
    "\n",
    "# cat_cols = dynamic_cat_cols + static_cat_cols\n",
    "# num_cols = dynamic_num_cols + static_num_cols"
   ]
  },
  {
   "cell_type": "code",
   "execution_count": 23,
   "id": "d8ef9ef6",
   "metadata": {},
   "outputs": [],
   "source": [
    "df_static = data[static_cat_cols + static_num_cols + ['case:concept:name']].drop_duplicates(keep='last')"
   ]
  },
  {
   "cell_type": "code",
   "execution_count": 24,
   "id": "a12998c6",
   "metadata": {},
   "outputs": [],
   "source": [
    "def AggregateTransformer(X, case_id_col, num_cols, cat_cols, all_activities):\n",
    "    # Ensure concept:name is in cat_cols for dummy variable creation\n",
    "    if 'concept:name' not in cat_cols:\n",
    "        cat_cols.append('concept:name')\n",
    "\n",
    "    # Transform numeric columns\n",
    "    dt_numeric = pd.DataFrame()\n",
    "    if len(num_cols) > 0:\n",
    "        dt_numeric = X.groupby(case_id_col)[num_cols].agg([\"mean\", \"max\", \"min\", \"sum\"])\n",
    "        dt_numeric.columns = ['_'.join(col).strip() for col in dt_numeric.columns.values]\n",
    "\n",
    "    # Transform categorical columns - creating dummy variables\n",
    "    dt_cat = pd.get_dummies(X[cat_cols])\n",
    "    dt_cat[case_id_col] = X[case_id_col]\n",
    "\n",
    "    # Group by case_id_col and sum to get count of each activity per case\n",
    "    dt_cat_grouped = dt_cat.groupby(case_id_col).sum()\n",
    "\n",
    "    # Add missing activity columns with 0 values\n",
    "    missing_activities = set(all_activities) - set(dt_cat_grouped.columns)\n",
    "    for activity in missing_activities:\n",
    "        dt_cat_grouped[activity] = 0\n",
    "\n",
    "    # Concatenate numeric and categorical data\n",
    "    dt_transformed = pd.concat([dt_cat_grouped, dt_numeric], axis=1)\n",
    "\n",
    "    # Fill missing values with 0\n",
    "    dt_transformed.fillna(0, inplace=True)\n",
    "    \n",
    "    return dt_transformed"
   ]
  },
  {
   "cell_type": "markdown",
   "id": "d68499f2",
   "metadata": {},
   "source": [
    "# Bucketing and Prediction"
   ]
  },
  {
   "cell_type": "code",
   "execution_count": 25,
   "id": "189775e6",
   "metadata": {},
   "outputs": [],
   "source": [
    "data.drop(columns=['trace_duration_seconds','trace_duration_days'],inplace=True)"
   ]
  },
  {
   "cell_type": "code",
   "execution_count": 26,
   "id": "32f4c688",
   "metadata": {},
   "outputs": [],
   "source": [
    "train_df, test_df = pm4py.split_train_test(data, train_percentage=0.75)"
   ]
  },
  {
   "cell_type": "code",
   "execution_count": 27,
   "id": "87451eee",
   "metadata": {},
   "outputs": [],
   "source": [
    "def get_bucket(act, df, num):\n",
    "    # Sort the DataFrame by time and case\n",
    "    df = df.sort_values(by=['case:concept:name', 'time:timestamp'])\n",
    "\n",
    "    # Find the first indices where 'act_num' appears in each case\n",
    "    first_indices = df[df['concept:name'] == f'{act}_{num}'].groupby('case:concept:name').head(1).index\n",
    "\n",
    "    # Process each case\n",
    "    result_dfs = []\n",
    "    for case_name, case_group in df.groupby('case:concept:name'):\n",
    "        # Find the first index where 'act_num' appears in the current case\n",
    "        current_case_first_index = first_indices[first_indices.isin(case_group.index)]\n",
    "\n",
    "        # Create a boolean mask identifying rows in the current case before the first occurrence of 'act_num'\n",
    "        keep_rows_mask = case_group.index <= current_case_first_index.min()\n",
    "\n",
    "        # Use the mask to filter out the rows to be kept and add them to the result set\n",
    "        result_df = case_group[keep_rows_mask]\n",
    "        result_dfs.append(result_df)\n",
    "\n",
    "    # Concatenate the result set into a single DataFrame\n",
    "    result_df = pd.concat(result_dfs)\n",
    "\n",
    "    return result_df\n"
   ]
  },
  {
   "cell_type": "code",
   "execution_count": 28,
   "id": "02563b4f",
   "metadata": {},
   "outputs": [],
   "source": [
    "#function to get labels ready\n",
    "def get_y(df_y, case_id_col):\n",
    " \n",
    "    df_= df_y.groupby(case_id_col)['remaining_time_days'].last().reset_index()\n",
    "    Y=df_['remaining_time_days']\n",
    "\n",
    "    return Y"
   ]
  },
  {
   "cell_type": "code",
   "execution_count": 29,
   "id": "8cabf7d5",
   "metadata": {},
   "outputs": [],
   "source": [
    "#get bucket for A_Incomplete_1\n",
    "\n",
    "bucket_train_A_Incomplete = get_bucket('A_Incomplete',find_order_Event('A_Incomplete',train_df),1)\n",
    "bucket_test_A_Incomplete = get_bucket('A_Incomplete',find_order_Event('A_Incomplete',test_df),1)"
   ]
  },
  {
   "cell_type": "code",
   "execution_count": 30,
   "id": "cab1b2e8",
   "metadata": {},
   "outputs": [],
   "source": [
    "#encode activities\n",
    "bucket_train_A_Incomplete_encoded = AggregateTransformer(bucket_train_A_Incomplete,case_id_col,num_cols=dynamic_num_cols,cat_cols=dynamic_cat_cols, all_activities=all_act)\n",
    "bucket_test_A_Incomplete_encoded = AggregateTransformer(bucket_test_A_Incomplete,case_id_col,num_cols=dynamic_num_cols,cat_cols=dynamic_cat_cols, all_activities=all_act)"
   ]
  },
  {
   "cell_type": "code",
   "execution_count": 31,
   "id": "0e4125fb",
   "metadata": {},
   "outputs": [],
   "source": [
    "#get bucket for A_Complete\n",
    "bucket_train_A_Complete = get_bucket('A_Complete',find_order_Event('A_Complete',train_df),1)\n",
    "bucket_test_A_Complete = get_bucket('A_Complete',find_order_Event('A_Complete',test_df),1)"
   ]
  },
  {
   "cell_type": "code",
   "execution_count": 32,
   "id": "eaa174dc",
   "metadata": {},
   "outputs": [],
   "source": [
    "bucket_train_A_Complete_encoded = AggregateTransformer(bucket_train_A_Complete,case_id_col,num_cols=dynamic_num_cols,cat_cols=dynamic_cat_cols, all_activities=all_act)\n",
    "bucket_test_A_Complete_encoded = AggregateTransformer(bucket_test_A_Complete,case_id_col,num_cols=dynamic_num_cols,cat_cols=dynamic_cat_cols, all_activities=all_act)"
   ]
  },
  {
   "cell_type": "markdown",
   "id": "53645606",
   "metadata": {},
   "source": [
    "### Every trace only have one A_Complete"
   ]
  },
  {
   "cell_type": "code",
   "execution_count": 33,
   "id": "fc71c06d",
   "metadata": {},
   "outputs": [],
   "source": [
    "#get bucket for O_Returned_1\n",
    "bucket_train_O_Returned = get_bucket('O_Returned',find_order_Event('O_Returned',train_df),1)\n",
    "bucket_test_O_Returned = get_bucket('O_Returned',find_order_Event('O_Returned',test_df),1)"
   ]
  },
  {
   "cell_type": "markdown",
   "id": "92e141f3",
   "metadata": {},
   "source": [
    "### Change 1 to 2 or 3 can get buckets maintaing until the second, third occurence of O_Returned"
   ]
  },
  {
   "cell_type": "code",
   "execution_count": 34,
   "id": "202b0989",
   "metadata": {},
   "outputs": [],
   "source": [
    "bucket_train_O_Returned_encoded = AggregateTransformer(bucket_train_O_Returned,case_id_col,num_cols=dynamic_num_cols,cat_cols=dynamic_cat_cols, all_activities=all_act)\n",
    "bucket_test_O_Returned_encoded = AggregateTransformer(bucket_test_O_Returned,case_id_col,num_cols=dynamic_num_cols,cat_cols=dynamic_cat_cols, all_activities=all_act)"
   ]
  },
  {
   "cell_type": "code",
   "execution_count": 35,
   "id": "d3e0e7b2",
   "metadata": {},
   "outputs": [],
   "source": [
    "from sklearn.ensemble import RandomForestRegressor\n",
    "from sklearn.metrics import mean_squared_error, mean_absolute_error\n",
    "from sklearn.linear_model import LinearRegression\n",
    "from sklearn.metrics import mean_squared_error, r2_score"
   ]
  },
  {
   "cell_type": "code",
   "execution_count": 36,
   "id": "ba3d7dd5",
   "metadata": {},
   "outputs": [],
   "source": [
    "def get_train_test_bucket(train,test,train_encoded,test_encoded):\n",
    "        \n",
    "    df_train = pd.DataFrame(train_encoded)\n",
    "    df_train = pd.merge(df_train, df_static, how='left',on='case:concept:name').drop(columns=['case:concept:name'])\n",
    "    string_columns = df_train.select_dtypes(include=['object']).columns\n",
    "    df_train_encoded = pd.get_dummies(df_train, columns=string_columns)\n",
    "\n",
    "    Y_train = get_y(train,case_id_col)\n",
    "\n",
    "    df_test = pd.DataFrame(test_encoded)\n",
    "    df_test = pd.merge(df_test, df_static, how='left',on='case:concept:name').drop(columns=['case:concept:name'])\n",
    "    df_test_encoded = pd.get_dummies(df_test, columns=string_columns)\n",
    "\n",
    "    intersection = list(set(df_train_encoded.columns).intersection(df_test_encoded.columns))\n",
    "    df_train_encoded = df_train_encoded[intersection]\n",
    "    df_test_encoded = df_test_encoded[intersection]\n",
    "\n",
    "    Y_test = get_y(test, case_id_col)\n",
    "    \n",
    "    return df_train_encoded, df_test_encoded, Y_train, Y_test"
   ]
  },
  {
   "cell_type": "code",
   "execution_count": 37,
   "id": "7410d638",
   "metadata": {},
   "outputs": [],
   "source": [
    "df_train_encoded, df_test_encoded, Y_train, Y_test = get_train_test_bucket(bucket_train_O_Returned,\n",
    "                                                                           bucket_test_O_Returned,\n",
    "                                                                          bucket_train_O_Returned_encoded,\n",
    "                                                                          bucket_test_O_Returned_encoded)\n",
    "\n",
    "# Try for other buckets"
   ]
  },
  {
   "cell_type": "code",
   "execution_count": 38,
   "id": "a80dd11c",
   "metadata": {},
   "outputs": [],
   "source": [
    "def test_equal(df1, df2):\n",
    "    train,test=[],[]\n",
    "    for i in range(len(df1.columns)):\n",
    "        train.append(df1.columns[i])\n",
    "        test.append(df2.columns[i])\n",
    "\n",
    "    print(train==test)"
   ]
  },
  {
   "cell_type": "code",
   "execution_count": 42,
   "id": "495e9181",
   "metadata": {},
   "outputs": [],
   "source": [
    "def baseline(df):\n",
    "    df['elapsed_time_seconds'] = df.groupby('case:concept:name')['time:timestamp'].transform(lambda x: (x - x.min()).dt.total_seconds())\n",
    "    df['elapsed_time_seconds'] = df.groupby('case:concept:name')['time:timestamp'].transform(lambda x: (x - x.min()).dt.total_seconds())\n",
    "    # Calculate the average total duration of a case from the training set\n",
    "    y_total = df['remaining_time_seconds'].mean()\n",
    "\n",
    "    # Calculate the remaining time for each case in the training set\n",
    "    df['predicted_remaining_time'] = y_total - df['elapsed_time_seconds']\n",
    "\n",
    "    # To evaluate the performance, we can use mean absolute error\n",
    "    # between the actual remaining times and the predicted remaining times\n",
    "    actual_remaining_times = df['remaining_time_seconds']\n",
    "    predicted_remaining_times = df['predicted_remaining_time']\n",
    "    mae = mean_absolute_error(actual_remaining_times, predicted_remaining_times)\n",
    "    return y_total,mae/86400"
   ]
  },
  {
   "cell_type": "markdown",
   "id": "6b6e3d6c",
   "metadata": {},
   "source": [
    "### O_returned bucket"
   ]
  },
  {
   "cell_type": "code",
   "execution_count": 144,
   "id": "b1abd2af",
   "metadata": {},
   "outputs": [
    {
     "name": "stdout",
     "output_type": "stream",
     "text": [
      "The MAE of the naïve model:  8.372997969522464\n"
     ]
    }
   ],
   "source": [
    "print('The MAE of the naïve model: ',baseline(bucket_test_O_Returned)[1])"
   ]
  },
  {
   "cell_type": "code",
   "execution_count": 39,
   "metadata": {},
   "outputs": [
    {
     "name": "stdout",
     "output_type": "stream",
     "text": [
      "True\n"
     ]
    }
   ],
   "source": [
    "test_equal(df_train_encoded,df_test_encoded)"
   ]
  },
  {
   "cell_type": "code",
   "execution_count": 40,
   "id": "3adf4687",
   "metadata": {},
   "outputs": [
    {
     "data": {
      "text/html": [
       "<style>#sk-container-id-1 {color: black;}#sk-container-id-1 pre{padding: 0;}#sk-container-id-1 div.sk-toggleable {background-color: white;}#sk-container-id-1 label.sk-toggleable__label {cursor: pointer;display: block;width: 100%;margin-bottom: 0;padding: 0.3em;box-sizing: border-box;text-align: center;}#sk-container-id-1 label.sk-toggleable__label-arrow:before {content: \"▸\";float: left;margin-right: 0.25em;color: #696969;}#sk-container-id-1 label.sk-toggleable__label-arrow:hover:before {color: black;}#sk-container-id-1 div.sk-estimator:hover label.sk-toggleable__label-arrow:before {color: black;}#sk-container-id-1 div.sk-toggleable__content {max-height: 0;max-width: 0;overflow: hidden;text-align: left;background-color: #f0f8ff;}#sk-container-id-1 div.sk-toggleable__content pre {margin: 0.2em;color: black;border-radius: 0.25em;background-color: #f0f8ff;}#sk-container-id-1 input.sk-toggleable__control:checked~div.sk-toggleable__content {max-height: 200px;max-width: 100%;overflow: auto;}#sk-container-id-1 input.sk-toggleable__control:checked~label.sk-toggleable__label-arrow:before {content: \"▾\";}#sk-container-id-1 div.sk-estimator input.sk-toggleable__control:checked~label.sk-toggleable__label {background-color: #d4ebff;}#sk-container-id-1 div.sk-label input.sk-toggleable__control:checked~label.sk-toggleable__label {background-color: #d4ebff;}#sk-container-id-1 input.sk-hidden--visually {border: 0;clip: rect(1px 1px 1px 1px);clip: rect(1px, 1px, 1px, 1px);height: 1px;margin: -1px;overflow: hidden;padding: 0;position: absolute;width: 1px;}#sk-container-id-1 div.sk-estimator {font-family: monospace;background-color: #f0f8ff;border: 1px dotted black;border-radius: 0.25em;box-sizing: border-box;margin-bottom: 0.5em;}#sk-container-id-1 div.sk-estimator:hover {background-color: #d4ebff;}#sk-container-id-1 div.sk-parallel-item::after {content: \"\";width: 100%;border-bottom: 1px solid gray;flex-grow: 1;}#sk-container-id-1 div.sk-label:hover label.sk-toggleable__label {background-color: #d4ebff;}#sk-container-id-1 div.sk-serial::before {content: \"\";position: absolute;border-left: 1px solid gray;box-sizing: border-box;top: 0;bottom: 0;left: 50%;z-index: 0;}#sk-container-id-1 div.sk-serial {display: flex;flex-direction: column;align-items: center;background-color: white;padding-right: 0.2em;padding-left: 0.2em;position: relative;}#sk-container-id-1 div.sk-item {position: relative;z-index: 1;}#sk-container-id-1 div.sk-parallel {display: flex;align-items: stretch;justify-content: center;background-color: white;position: relative;}#sk-container-id-1 div.sk-item::before, #sk-container-id-1 div.sk-parallel-item::before {content: \"\";position: absolute;border-left: 1px solid gray;box-sizing: border-box;top: 0;bottom: 0;left: 50%;z-index: -1;}#sk-container-id-1 div.sk-parallel-item {display: flex;flex-direction: column;z-index: 1;position: relative;background-color: white;}#sk-container-id-1 div.sk-parallel-item:first-child::after {align-self: flex-end;width: 50%;}#sk-container-id-1 div.sk-parallel-item:last-child::after {align-self: flex-start;width: 50%;}#sk-container-id-1 div.sk-parallel-item:only-child::after {width: 0;}#sk-container-id-1 div.sk-dashed-wrapped {border: 1px dashed gray;margin: 0 0.4em 0.5em 0.4em;box-sizing: border-box;padding-bottom: 0.4em;background-color: white;}#sk-container-id-1 div.sk-label label {font-family: monospace;font-weight: bold;display: inline-block;line-height: 1.2em;}#sk-container-id-1 div.sk-label-container {text-align: center;}#sk-container-id-1 div.sk-container {/* jupyter's `normalize.less` sets `[hidden] { display: none; }` but bootstrap.min.css set `[hidden] { display: none !important; }` so we also need the `!important` here to be able to override the default hidden behavior on the sphinx rendered scikit-learn.org. See: https://github.com/scikit-learn/scikit-learn/issues/21755 */display: inline-block !important;position: relative;}#sk-container-id-1 div.sk-text-repr-fallback {display: none;}</style><div id=\"sk-container-id-1\" class=\"sk-top-container\"><div class=\"sk-text-repr-fallback\"><pre>RandomForestRegressor(random_state=42)</pre><b>In a Jupyter environment, please rerun this cell to show the HTML representation or trust the notebook. <br />On GitHub, the HTML representation is unable to render, please try loading this page with nbviewer.org.</b></div><div class=\"sk-container\" hidden><div class=\"sk-item\"><div class=\"sk-estimator sk-toggleable\"><input class=\"sk-toggleable__control sk-hidden--visually\" id=\"sk-estimator-id-1\" type=\"checkbox\" checked><label for=\"sk-estimator-id-1\" class=\"sk-toggleable__label sk-toggleable__label-arrow\">RandomForestRegressor</label><div class=\"sk-toggleable__content\"><pre>RandomForestRegressor(random_state=42)</pre></div></div></div></div></div>"
      ],
      "text/plain": [
       "RandomForestRegressor(random_state=42)"
      ]
     },
     "execution_count": 40,
     "metadata": {},
     "output_type": "execute_result"
    }
   ],
   "source": [
    "from sklearn.ensemble import RandomForestRegressor\n",
    "from sklearn.metrics import mean_squared_error, mean_absolute_error\n",
    "\n",
    "#create and train random forest\n",
    "rf_model = RandomForestRegressor(random_state=42)\n",
    "rf_model.fit(df_train_encoded, Y_train )"
   ]
  },
  {
   "cell_type": "code",
   "execution_count": 41,
   "id": "04f80e6e",
   "metadata": {},
   "outputs": [
    {
     "name": "stdout",
     "output_type": "stream",
     "text": [
      "Mean Squared Error: 55.17857408511094\n",
      "Mean Absolute Error: 4.90568220038945\n"
     ]
    }
   ],
   "source": [
    "#make predictions\n",
    "y_pred = rf_model.predict(df_test_encoded)\n",
    "\n",
    "# Calculate and print the errors\n",
    "mse = mean_squared_error(Y_test, y_pred)\n",
    "mae = mean_absolute_error(Y_test, y_pred)\n",
    "print(f\"Mean Squared Error: {mse}\")\n",
    "print(f\"Mean Absolute Error: {mae}\")"
   ]
  },
  {
   "cell_type": "markdown",
   "id": "b2b3ccaa",
   "metadata": {},
   "source": [
    "### A_complete"
   ]
  },
  {
   "cell_type": "code",
   "execution_count": 44,
   "id": "6aa03596",
   "metadata": {},
   "outputs": [],
   "source": [
    "df_train_encoded_complete, df_test_encoded_complete, Y_train_complete, Y_test_complete = get_train_test_bucket(bucket_train_A_Complete,\n",
    "                                                                           bucket_test_A_Complete,\n",
    "                                                                          bucket_train_A_Complete_encoded,\n",
    "                                                                          bucket_test_A_Complete_encoded)\n"
   ]
  },
  {
   "cell_type": "code",
   "execution_count": 145,
   "id": "e36ea6cb",
   "metadata": {},
   "outputs": [
    {
     "name": "stdout",
     "output_type": "stream",
     "text": [
      "The MAE of the naïve model:  10.68301078355624\n"
     ]
    }
   ],
   "source": [
    "print('The MAE of the naïve model: ',baseline(bucket_test_A_Complete)[1])"
   ]
  },
  {
   "cell_type": "code",
   "execution_count": 46,
   "id": "2f43a288",
   "metadata": {},
   "outputs": [
    {
     "name": "stdout",
     "output_type": "stream",
     "text": [
      "True\n"
     ]
    }
   ],
   "source": [
    "test_equal(df_train_encoded_complete,df_test_encoded_complete)"
   ]
  },
  {
   "cell_type": "code",
   "execution_count": 47,
   "id": "e2c5f0bb",
   "metadata": {},
   "outputs": [
    {
     "name": "stdout",
     "output_type": "stream",
     "text": [
      "Mean Squared Error: 114.03515589483642\n",
      "Mean Absolute Error: 7.511470601974509\n"
     ]
    }
   ],
   "source": [
    "#Create and test model\n",
    "rf_model1 = RandomForestRegressor(random_state=42)\n",
    "rf_model1.fit(df_train_encoded_complete, Y_train_complete )\n",
    "\n",
    "#make prediction\n",
    "y_pred = rf_model1.predict(df_test_encoded_complete)\n",
    "\n",
    "# Calculate and print the errors\n",
    "mse = mean_squared_error(Y_test_complete, y_pred)\n",
    "mae = mean_absolute_error(Y_test_complete, y_pred)\n",
    "print(f\"Mean Squared Error: {mse}\")\n",
    "print(f\"Mean Absolute Error: {mae}\")"
   ]
  },
  {
   "cell_type": "markdown",
   "id": "7fa2538c",
   "metadata": {},
   "source": [
    "## A_Incomplete"
   ]
  },
  {
   "cell_type": "code",
   "execution_count": 48,
   "id": "454620f9",
   "metadata": {},
   "outputs": [],
   "source": [
    "df_train_encoded_incomplete, df_test_encoded_incomplete, Y_train_incomplete, Y_test_incomplete = get_train_test_bucket(bucket_train_A_Incomplete,\n",
    "                                                                           bucket_test_A_Incomplete,\n",
    "                                                                          bucket_train_A_Incomplete_encoded,\n",
    "                                                                          bucket_test_A_Incomplete_encoded)\n"
   ]
  },
  {
   "cell_type": "code",
   "execution_count": 146,
   "id": "03bce4cd",
   "metadata": {},
   "outputs": [
    {
     "name": "stdout",
     "output_type": "stream",
     "text": [
      "The MAE of the naïve model:  8.97797479469575\n"
     ]
    }
   ],
   "source": [
    "print('The MAE of the naïve model: ',baseline(bucket_test_A_Incomplete)[1])"
   ]
  },
  {
   "cell_type": "code",
   "execution_count": 50,
   "id": "d49ad33d",
   "metadata": {},
   "outputs": [
    {
     "name": "stdout",
     "output_type": "stream",
     "text": [
      "True\n"
     ]
    }
   ],
   "source": [
    "test_equal(df_train_encoded_incomplete,df_test_encoded_incomplete)"
   ]
  },
  {
   "cell_type": "code",
   "execution_count": 51,
   "id": "0ff5761e",
   "metadata": {},
   "outputs": [
    {
     "name": "stdout",
     "output_type": "stream",
     "text": [
      "Mean Squared Error: 61.87492730459165\n",
      "Mean Absolute Error: 5.327711181212758\n"
     ]
    }
   ],
   "source": [
    "#create and train model\n",
    "rf_model2 = RandomForestRegressor(random_state=42)\n",
    "rf_model2.fit(df_train_encoded_incomplete, Y_train_incomplete )\n",
    "\n",
    "#make predictions\n",
    "y_pred = rf_model2.predict(df_test_encoded_incomplete)\n",
    "\n",
    "# Calculate and print the errors\n",
    "mse = mean_squared_error(Y_test_incomplete, y_pred)\n",
    "mae = mean_absolute_error(Y_test_incomplete, y_pred)\n",
    "print(f\"Mean Squared Error: {mse}\")\n",
    "print(f\"Mean Absolute Error: {mae}\")"
   ]
  },
  {
   "cell_type": "markdown",
   "id": "043d21e3",
   "metadata": {},
   "source": [
    "## Raw data"
   ]
  },
  {
   "cell_type": "code",
   "execution_count": 59,
   "id": "4ee55c1e",
   "metadata": {},
   "outputs": [],
   "source": [
    "def read_and_prep_dataset2(file_path):\n",
    "    # read dataset\n",
    "    data_raw = pm4py.read_xes(file_path)\n",
    "        \n",
    "    # Let's only consider the complete lifecycle:transition, this is because the value \"complete\" meaning\n",
    "    # the ongoing single event task is finished instead of being suspended or withdrawal, increasing the possibility to\n",
    "    # get more complete traces for our prediction\n",
    "    data_raw = data_raw[data_raw['lifecycle:transition'] == 'complete']\n",
    "    log = pm4py.convert_to_event_log(data_raw)\n",
    "        \n",
    "    # Only keep two most frequent traces, we believe these are the most complete traces\n",
    "    \n",
    "        \n",
    "    df = pm4py.convert_to_dataframe(log)\n",
    "    agg_dict = {\"time:timestamp\" :['min', 'max']}\n",
    "    duration_df = pd.DataFrame(df.groupby(\"case:concept:name\").agg(agg_dict)).reset_index()\n",
    "    duration_df[\"trace_duration_days\"] = (duration_df[(\"time:timestamp\",\"max\")] - duration_df[(\"time:timestamp\",\"min\")]).dt.total_seconds() / (24 * 60 * 60)\n",
    "    duration_df['trace_duration_days'] = duration_df['trace_duration_days'].apply(lambda x: math.ceil(x))\n",
    "    duration_df[\"trace_duration_seconds\"] = (duration_df[(\"time:timestamp\",\"max\")] - duration_df[(\"time:timestamp\",\"min\")]).dt.total_seconds()\n",
    "    duration_df.drop(columns=['time:timestamp'],inplace=True)\n",
    "    duration_df = duration_df.droplevel(1, axis=1)\n",
    "\n",
    "    df_with_duration = df.merge(duration_df, on='case:concept:name')\n",
    "    #df_with_duration['sum_Time_sec'] = df.groupby('case:concept:name')['time:timestamp'].transform(lambda x: x - x.iloc[0]).dt.total_seconds()\n",
    "    df_with_duration_remain = df_with_duration.copy()\n",
    "    df_with_duration_remain['remaining_time_seconds'] = df_with_duration.groupby('case:concept:name')['time:timestamp'].transform(lambda x: x.iloc[-1] - x).dt.total_seconds()\n",
    "    df_with_duration_remain['remaining_time_days'] = df_with_duration.groupby('case:concept:name')['time:timestamp'].transform(lambda x: x.iloc[-1] - x).dt.total_seconds() / (24 * 60 * 60)\n",
    "    df_with_duration_remain['remaining_time_days'] = df_with_duration_remain['remaining_time_days'].apply(lambda x: math.ceil(x))\n",
    "    \n",
    "    \n",
    "    #df_with_duration_remain['Complete_Timestamp'] = df_with_duration_remain.groupby('case:concept:name')['time:timestamp'].transform('last')\n",
    "    #df_with_duration['duration'] = df_with_duration.groupby('case:concept:name')['time:timestamp'].diff().dt.total_seconds()\n",
    "        \n",
    "    return df_with_duration_remain"
   ]
  },
  {
   "cell_type": "code",
   "execution_count": 60,
   "id": "009905cd",
   "metadata": {},
   "outputs": [
    {
     "data": {
      "application/vnd.jupyter.widget-view+json": {
       "model_id": "2a08756d06694fbd91a177df818a2006",
       "version_major": 2,
       "version_minor": 0
      },
      "text/plain": [
       "parsing log, completed traces ::   0%|          | 0/31509 [00:00<?, ?it/s]"
      ]
     },
     "metadata": {},
     "output_type": "display_data"
    },
    {
     "name": "stderr",
     "output_type": "stream",
     "text": [
      "/usr/local/lib/python3.9/site-packages/pm4py/utils.py:537: UserWarning: the EventLog class has been deprecated and will be removed in a future release.\n",
      "  warnings.warn(\"the EventLog class has been deprecated and will be removed in a future release.\")\n",
      "/var/folders/1k/g6jpvmcs1cxb7t87t60d7dy40000gn/T/ipykernel_68205/1859927734.py:20: PerformanceWarning: dropping on a non-lexsorted multi-index without a level parameter may impact performance.\n",
      "  duration_df.drop(columns=['time:timestamp'],inplace=True)\n"
     ]
    }
   ],
   "source": [
    "raw = read_and_prep_dataset2('BPI_Challenge_2017.xes.gz')"
   ]
  },
  {
   "cell_type": "markdown",
   "id": "cee7ae89",
   "metadata": {},
   "source": [
    "### O_returned"
   ]
  },
  {
   "cell_type": "code",
   "execution_count": 163,
   "id": "f63eeef0",
   "metadata": {},
   "outputs": [],
   "source": [
    "def format4prediction(df_raw, df_train):\n",
    "\n",
    "    #drop features not in training space\n",
    "    difference_list = [element for element in list(df_raw.columns) if element not in list(df_train.columns)]\n",
    "    df_raw.drop(difference_list,axis=1, inplace=True)\n",
    "\n",
    "    order=[]\n",
    "    for i in df_train.columns:\n",
    "        order.append(i)\n",
    "\n",
    "    df_raw= df_raw[order]\n",
    "    status=test_equal(df_raw,df_train)\n",
    "    return df_raw,status\n"
   ]
  },
  {
   "cell_type": "code",
   "execution_count": 148,
   "id": "e7a79f54",
   "metadata": {},
   "outputs": [],
   "source": [
    "#create bucket and ecode activities\n",
    "raw_O_returned = get_bucket('O_Returned',find_order_Event('O_Returned',raw),1)\n",
    "raw_O_returned_encoded = AggregateTransformer(raw_O_returned,case_id_col,num_cols=dynamic_num_cols,cat_cols=dynamic_cat_cols, all_activities=all_act)\n",
    "\n",
    "#format data \n",
    "df_train_encoded_raw, df_test_encoded_raw, Y_train_raw, Y_test_raw=get_train_test_bucket(raw_O_returned,raw_O_returned,raw_O_returned_encoded,raw_O_returned_encoded)"
   ]
  },
  {
   "cell_type": "code",
   "execution_count": 153,
   "id": "89d68908",
   "metadata": {},
   "outputs": [
    {
     "name": "stdout",
     "output_type": "stream",
     "text": [
      "True\n",
      "None\n"
     ]
    }
   ],
   "source": [
    "#make sure features are the same for prediction\n",
    "df_test_encoded_raw_return,status=format4prediction(df_test_encoded_raw,df_train_encoded\n",
    "                                             )\n",
    "status"
   ]
  },
  {
   "cell_type": "code",
   "execution_count": 161,
   "id": "150f164e",
   "metadata": {},
   "outputs": [
    {
     "name": "stdout",
     "output_type": "stream",
     "text": [
      "\n",
      "Total NaNs in DataFrame: 0\n"
     ]
    }
   ],
   "source": [
    "# Count the total number of NaNs in the DataFrame\n",
    "total_nans = df_test_encoded_raw_return.isna().sum().sum()\n",
    "print(\"Total NaNs in DataFrame:\", total_nans)"
   ]
  },
  {
   "cell_type": "code",
   "execution_count": 158,
   "id": "6d475eb1",
   "metadata": {},
   "outputs": [],
   "source": [
    "#Fill nan values to be able to predict\n",
    "df_test_encoded_raw_return.fillna(0, inplace=True)"
   ]
  },
  {
   "cell_type": "code",
   "execution_count": 170,
   "id": "c8557e50",
   "metadata": {},
   "outputs": [
    {
     "name": "stdout",
     "output_type": "stream",
     "text": [
      "Mean remaining time prediction:  7.33532506431459\n"
     ]
    }
   ],
   "source": [
    "#get preedicted values raw data\n",
    "recomend_o_return=rf_model.predict(df_test_encoded_raw_return)\n",
    "print('Mean remaining time prediction: ',recomend_o_return.mean())"
   ]
  },
  {
   "cell_type": "markdown",
   "id": "604830a8",
   "metadata": {},
   "source": [
    "### A_complete"
   ]
  },
  {
   "cell_type": "code",
   "execution_count": 165,
   "id": "1079fb30",
   "metadata": {},
   "outputs": [],
   "source": [
    "#create bucket and ecode activities\n",
    "raw_A_complete= get_bucket('A_Complete',find_order_Event('A_Complete',raw),1)\n",
    "raw_A_complete_encoded = AggregateTransformer(raw_A_complete,case_id_col,num_cols=dynamic_num_cols,cat_cols=dynamic_cat_cols, all_activities=all_act)\n",
    "\n",
    "#format data \n",
    "df_train_encoded_raw_complete, df_test_encoded_raw_complete, Y_train_raw_complete, Y_test_raw_complete=get_train_test_bucket(raw_A_complete,raw_A_complete,raw_A_complete_encoded,raw_A_complete_encoded)"
   ]
  },
  {
   "cell_type": "code",
   "execution_count": 166,
   "id": "5353e0d4",
   "metadata": {},
   "outputs": [
    {
     "name": "stdout",
     "output_type": "stream",
     "text": [
      "True\n"
     ]
    }
   ],
   "source": [
    "#make sure features are the same for prediction\n",
    "df_test_encoded_raw_complete,status=format4prediction(df_test_encoded_raw_complete,df_train_encoded_complete\n",
    "                                             )\n",
    "status"
   ]
  },
  {
   "cell_type": "code",
   "execution_count": 167,
   "id": "c5a42f00",
   "metadata": {},
   "outputs": [
    {
     "name": "stdout",
     "output_type": "stream",
     "text": [
      "\n",
      "Total NaNs in DataFrame: 7080\n"
     ]
    }
   ],
   "source": [
    "# Count the total number of NaNs in the DataFrame\n",
    "total_nans = df_test_encoded_raw_complete.isna().sum().sum()\n",
    "print(\"Total NaNs in DataFrame:\", total_nans)"
   ]
  },
  {
   "cell_type": "code",
   "execution_count": 168,
   "id": "43fd545c",
   "metadata": {},
   "outputs": [],
   "source": [
    "#Fill nan values to be able to predict\n",
    "df_test_encoded_raw_complete.fillna(0, inplace=True)"
   ]
  },
  {
   "cell_type": "code",
   "execution_count": 171,
   "id": "e91181ba",
   "metadata": {},
   "outputs": [
    {
     "name": "stdout",
     "output_type": "stream",
     "text": [
      "Mean remaining time prediction:  20.85167771195086\n"
     ]
    }
   ],
   "source": [
    "#make predictions on raw data\n",
    "recomend_a_complete= rf_model1.predict(df_test_encoded_raw_complete)\n",
    "print('Mean remaining time prediction: ', recomend_a_complete.mean())"
   ]
  },
  {
   "cell_type": "markdown",
   "id": "3e9ac906",
   "metadata": {},
   "source": [
    "### A_incomplete"
   ]
  },
  {
   "cell_type": "code",
   "execution_count": 125,
   "id": "8d89917c",
   "metadata": {},
   "outputs": [],
   "source": [
    "#create bucket and ecode activities\n",
    "raw_A_incomplete = get_bucket('A_Incomplete',find_order_Event('A_Incomplete',raw),1)\n",
    "raw_A_incomplete_encoded = AggregateTransformer(raw_A_incomplete,case_id_col,num_cols=dynamic_num_cols,cat_cols=dynamic_cat_cols, all_activities=all_act)\n",
    "\n",
    "#format data \n",
    "df_train_encoded_raw_incomplete, df_test_encoded_raw_incomplete, Y_train_raw_incomplete, Y_test_raw_incomplete=get_train_test_bucket(raw_A_incomplete,raw_A_incomplete,raw_A_incomplete_encoded,raw_A_incomplete_encoded)"
   ]
  },
  {
   "cell_type": "code",
   "execution_count": 172,
   "id": "5e1c3bdb",
   "metadata": {},
   "outputs": [
    {
     "name": "stdout",
     "output_type": "stream",
     "text": [
      "True\n"
     ]
    }
   ],
   "source": [
    "#make sure features are the same for prediction\n",
    "df_test_encoded_raw_incomplete,status=format4prediction(df_test_encoded_raw_incomplete,df_train_encoded_incomplete\n",
    "                                             )\n",
    "status"
   ]
  },
  {
   "cell_type": "code",
   "execution_count": 173,
   "id": "dc08fb13",
   "metadata": {},
   "outputs": [
    {
     "name": "stdout",
     "output_type": "stream",
     "text": [
      "Total NaNs in DataFrame: 0\n"
     ]
    }
   ],
   "source": [
    "# Count the total number of NaNs in the DataFrame\n",
    "total_nans = df_test_encoded_raw_incomplete.isna().sum().sum()\n",
    "\n",
    "print(\"Total NaNs in DataFrame:\", total_nans)"
   ]
  },
  {
   "cell_type": "code",
   "execution_count": 174,
   "id": "f977e597",
   "metadata": {},
   "outputs": [
    {
     "name": "stdout",
     "output_type": "stream",
     "text": [
      "Mean remaining time prediction:  7.148790746582545\n"
     ]
    }
   ],
   "source": [
    "recomend_a_incomplete= rf_model2.predict(df_test_encoded_raw_incomplete)\n",
    "print('Mean remaining time prediction: ', recomend_a_incomplete.mean())"
   ]
  }
 ],
 "metadata": {
  "kernelspec": {
   "display_name": "Python 3 (ipykernel)",
   "language": "python",
   "name": "python3"
  },
  "language_info": {
   "codemirror_mode": {
    "name": "ipython",
    "version": 3
   },
   "file_extension": ".py",
   "mimetype": "text/x-python",
   "name": "python",
   "nbconvert_exporter": "python",
   "pygments_lexer": "ipython3",
   "version": "3.9.9"
  }
 },
 "nbformat": 4,
 "nbformat_minor": 5
}
